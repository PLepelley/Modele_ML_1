{
 "cells": [
  {
   "cell_type": "markdown",
   "metadata": {},
   "source": [
    "## Bibliothèques & données"
   ]
  },
  {
   "cell_type": "code",
   "execution_count": 1,
   "metadata": {},
   "outputs": [],
   "source": [
    "import pandas as pd\n",
    "import numpy as np\n",
    "import matplotlib.pyplot as plt\n",
    "import seaborn as sns\n",
    "\n",
    "#Librairie Scikit-Learn\n",
    "from sklearn.linear_model import LinearRegression\n",
    "from sklearn.model_selection import train_test_split\n",
    "from sklearn.metrics import mean_squared_error\n",
    "from sklearn.metrics import mean_absolute_error\n",
    "from sklearn.preprocessing import OneHotEncoder\n",
    "from sklearn import preprocessing\n",
    "from sklearn.preprocessing import StandardScaler\n",
    "from sklearn.preprocessing import PolynomialFeatures"
   ]
  },
  {
   "cell_type": "markdown",
   "metadata": {},
   "source": [
    "## I. Régression linéaire simple"
   ]
  },
  {
   "cell_type": "code",
   "execution_count": 2,
   "metadata": {},
   "outputs": [
    {
     "data": {
      "text/html": [
       "<div>\n",
       "<style scoped>\n",
       "    .dataframe tbody tr th:only-of-type {\n",
       "        vertical-align: middle;\n",
       "    }\n",
       "\n",
       "    .dataframe tbody tr th {\n",
       "        vertical-align: top;\n",
       "    }\n",
       "\n",
       "    .dataframe thead th {\n",
       "        text-align: right;\n",
       "    }\n",
       "</style>\n",
       "<table border=\"1\" class=\"dataframe\">\n",
       "  <thead>\n",
       "    <tr style=\"text-align: right;\">\n",
       "      <th></th>\n",
       "      <th>heure_rev</th>\n",
       "      <th>note</th>\n",
       "    </tr>\n",
       "  </thead>\n",
       "  <tbody>\n",
       "    <tr>\n",
       "      <th>0</th>\n",
       "      <td>2</td>\n",
       "      <td>10</td>\n",
       "    </tr>\n",
       "    <tr>\n",
       "      <th>1</th>\n",
       "      <td>3</td>\n",
       "      <td>12</td>\n",
       "    </tr>\n",
       "    <tr>\n",
       "      <th>2</th>\n",
       "      <td>4</td>\n",
       "      <td>20</td>\n",
       "    </tr>\n",
       "    <tr>\n",
       "      <th>3</th>\n",
       "      <td>5</td>\n",
       "      <td>22</td>\n",
       "    </tr>\n",
       "    <tr>\n",
       "      <th>4</th>\n",
       "      <td>6</td>\n",
       "      <td>21</td>\n",
       "    </tr>\n",
       "  </tbody>\n",
       "</table>\n",
       "</div>"
      ],
      "text/plain": [
       "   heure_rev  note\n",
       "0          2    10\n",
       "1          3    12\n",
       "2          4    20\n",
       "3          5    22\n",
       "4          6    21"
      ]
     },
     "execution_count": 2,
     "metadata": {},
     "output_type": "execute_result"
    }
   ],
   "source": [
    "path = \"reg_simple.csv\"\n",
    "reg_simple = pd.read_csv(path)\n",
    "reg_simple.head()"
   ]
  },
  {
   "cell_type": "code",
   "execution_count": 3,
   "metadata": {},
   "outputs": [
    {
     "data": {
      "image/png": "[encoded data removed]",
      "text/plain": [
       "<Figure size 432x288 with 1 Axes>"
      ]
     },
     "metadata": {
      "needs_background": "light"
     },
     "output_type": "display_data"
    }
   ],
   "source": [
    "#plot\n",
    "fig, ax = plt.subplots()\n",
    "\n",
    "ax.scatter(reg_simple[\"heure_rev\"], reg_simple[\"note\"], c = 'red', marker= '^')\n",
    "plt.show()"
   ]
  },
  {
   "cell_type": "code",
   "execution_count": 4,
   "metadata": {},
   "outputs": [
    {
     "data": {
      "text/plain": [
       "(27, 1)"
      ]
     },
     "execution_count": 4,
     "metadata": {},
     "output_type": "execute_result"
    }
   ],
   "source": [
    "xn= np.array(reg_simple[\"heure_rev\"])\n",
    "xn=xn.reshape(len(xn), 1)\n",
    "#x1 = []\n",
    "#for i in range(len(xn)):\n",
    "#    x1.append(1)\n",
    "x1 =np.ones(xn.shape)\n",
    "x1.shape"
   ]
  },
  {
   "cell_type": "code",
   "execution_count": 5,
   "metadata": {},
   "outputs": [
    {
     "data": {
      "text/plain": [
       "(27, 1)"
      ]
     },
     "execution_count": 5,
     "metadata": {},
     "output_type": "execute_result"
    }
   ],
   "source": [
    "xn.shape"
   ]
  },
  {
   "cell_type": "code",
   "execution_count": 6,
   "metadata": {},
   "outputs": [
    {
     "data": {
      "text/plain": [
       "array([[ 2.,  1.],\n",
       "       [ 3.,  1.],\n",
       "       [ 4.,  1.],\n",
       "       [ 5.,  1.],\n",
       "       [ 6.,  1.],\n",
       "       [ 7.,  1.],\n",
       "       [ 8.,  1.],\n",
       "       [ 9.,  1.],\n",
       "       [10.,  1.],\n",
       "       [11.,  1.],\n",
       "       [12.,  1.],\n",
       "       [13.,  1.],\n",
       "       [14.,  1.],\n",
       "       [15.,  1.],\n",
       "       [16.,  1.],\n",
       "       [17.,  1.],\n",
       "       [18.,  1.],\n",
       "       [19.,  1.],\n",
       "       [20.,  1.],\n",
       "       [21.,  1.],\n",
       "       [22.,  1.],\n",
       "       [23.,  1.],\n",
       "       [24.,  1.],\n",
       "       [25.,  1.],\n",
       "       [26.,  1.],\n",
       "       [29.,  1.],\n",
       "       [30.,  1.]])"
      ]
     },
     "execution_count": 6,
     "metadata": {},
     "output_type": "execute_result"
    }
   ],
   "source": [
    "#Création de la matrice X, composée de la feature xn (colonne heure_rev)\n",
    "X = np.hstack((xn, x1))\n",
    "X"
   ]
  },
  {
   "cell_type": "code",
   "execution_count": 7,
   "metadata": {},
   "outputs": [
    {
     "data": {
      "text/plain": [
       "array([[0.94241077],\n",
       "       [1.91849944]])"
      ]
     },
     "execution_count": 7,
     "metadata": {},
     "output_type": "execute_result"
    }
   ],
   "source": [
    "#Création du theta\n",
    "a = np.random.randint(0, 10)\n",
    "b = np.random.randint(0, 10)\n",
    "theta = np.hstack((a, b))\n",
    "theta=np.random.randn(2,1)\n",
    "theta"
   ]
  },
  {
   "cell_type": "markdown",
   "metadata": {},
   "source": [
    "### 3. Création du modèle"
   ]
  },
  {
   "cell_type": "code",
   "execution_count": 8,
   "metadata": {},
   "outputs": [],
   "source": [
    "def model(X, theta):\n",
    "    F = X.dot(theta)\n",
    "    return F"
   ]
  },
  {
   "cell_type": "code",
   "execution_count": 9,
   "metadata": {},
   "outputs": [
    {
     "data": {
      "text/plain": [
       "array([[ 3.80332097],\n",
       "       [ 4.74573174],\n",
       "       [ 5.68814251],\n",
       "       [ 6.63055327],\n",
       "       [ 7.57296404],\n",
       "       [ 8.51537481],\n",
       "       [ 9.45778557],\n",
       "       [10.40019634],\n",
       "       [11.34260711],\n",
       "       [12.28501787],\n",
       "       [13.22742864],\n",
       "       [14.16983941],\n",
       "       [15.11225017],\n",
       "       [16.05466094],\n",
       "       [16.99707171],\n",
       "       [17.93948247],\n",
       "       [18.88189324],\n",
       "       [19.82430401],\n",
       "       [20.76671478],\n",
       "       [21.70912554],\n",
       "       [22.65153631],\n",
       "       [23.59394708],\n",
       "       [24.53635784],\n",
       "       [25.47876861],\n",
       "       [26.42117938],\n",
       "       [29.24841168],\n",
       "       [30.19082244]])"
      ]
     },
     "execution_count": 9,
     "metadata": {},
     "output_type": "execute_result"
    }
   ],
   "source": [
    "y_predit = model(X, theta)\n",
    "y_predit"
   ]
  },
  {
   "cell_type": "code",
   "execution_count": 10,
   "metadata": {},
   "outputs": [
    {
     "data": {
      "image/png": "[encoded data removed]",
      "text/plain": [
       "<Figure size 432x288 with 1 Axes>"
      ]
     },
     "metadata": {
      "needs_background": "light"
     },
     "output_type": "display_data"
    }
   ],
   "source": [
    "plt.scatter(xn,reg_simple[\"note\"])\n",
    "plt.plot(xn,model(X, theta), 'g')\n",
    "plt.show()"
   ]
  },
  {
   "cell_type": "markdown",
   "metadata": {},
   "source": [
    "### 4. Fonction coût"
   ]
  },
  {
   "cell_type": "code",
   "execution_count": 11,
   "metadata": {},
   "outputs": [],
   "source": [
    "def cout(X, y, theta):\n",
    "    m = len(y)\n",
    "    resultat =  1/(2*m) * (np.sum((model(X, theta) - y)**2))\n",
    "    return resultat"
   ]
  },
  {
   "cell_type": "code",
   "execution_count": 12,
   "metadata": {},
   "outputs": [
    {
     "data": {
      "text/plain": [
       "802.8054433159358"
      ]
     },
     "execution_count": 12,
     "metadata": {},
     "output_type": "execute_result"
    }
   ],
   "source": [
    "y_obs = np.array(reg_simple['note'])\n",
    "y_obs = y_obs.reshape(len(y_obs), 1)\n",
    "y_obs\n",
    "cout(X, y_obs, theta)"
   ]
  },
  {
   "cell_type": "markdown",
   "metadata": {},
   "source": [
    "### 5. Fonction gradient"
   ]
  },
  {
   "cell_type": "code",
   "execution_count": 13,
   "metadata": {},
   "outputs": [],
   "source": [
    "def gradient(X, y, theta):\n",
    "    resultat = ((X.T).dot((model(X,theta)) - y))/(len(y))\n",
    "    return resultat"
   ]
  },
  {
   "cell_type": "code",
   "execution_count": 14,
   "metadata": {},
   "outputs": [
    {
     "data": {
      "text/plain": [
       "array([[-682.8388826 ],\n",
       "       [ -34.84275969]])"
      ]
     },
     "execution_count": 14,
     "metadata": {},
     "output_type": "execute_result"
    }
   ],
   "source": [
    "gradient(X, y_obs, theta)"
   ]
  },
  {
   "cell_type": "markdown",
   "metadata": {},
   "source": [
    "### 6. Fonction gradient descendant"
   ]
  },
  {
   "cell_type": "code",
   "execution_count": 15,
   "metadata": {},
   "outputs": [
    {
     "data": {
      "text/plain": [
       "array([0., 0., 0., 0.])"
      ]
     },
     "execution_count": 15,
     "metadata": {},
     "output_type": "execute_result"
    }
   ],
   "source": [
    "cost_history = np.zeros(4) \n",
    "cost_history"
   ]
  },
  {
   "cell_type": "code",
   "execution_count": 16,
   "metadata": {},
   "outputs": [],
   "source": [
    "def descente_gradient(X, y, theta, alpha, n_iterations):\n",
    "    #création d'un tableau de stockage pour enregistrer l'évolution du coût\n",
    "    cout_evolution = np.zeros(n_iterations)\n",
    "    theta_evolution = []\n",
    "    \n",
    "    for i in range(0, n_iterations):\n",
    "        theta = theta - alpha * gradient(X, y, theta) #on calcule le nouveau theta (un vecteur de 2 lignes x 1 colonne)\n",
    "        cout_evolution[i] =  cout(X, y, theta) # on enregistre le coût pour chaque tour\n",
    "        theta_evolution.append(theta)\n",
    "    return theta, cout_evolution\n"
   ]
  },
  {
   "cell_type": "code",
   "execution_count": 17,
   "metadata": {},
   "outputs": [
    {
     "data": {
      "text/plain": [
       "(array([[3.25838359],\n",
       "        [2.02731624]]),\n",
       " array([404.25093539, 206.09856375, 107.58161287,  58.60114525,\n",
       "         34.24909949,  22.14174946,  16.1221859 ,  13.12933245,\n",
       "         11.641291  ,  10.90140817,  10.53349293,  10.35051163,\n",
       "         10.25947533,  10.21415204,  10.19155625,  10.1802601 ,\n",
       "         10.17458189,  10.17169682,  10.17020047,  10.16939459,\n",
       "         10.16893201,  10.16864015,  10.16843319,  10.16826848,\n",
       "         10.16812478,  10.16799157,  10.1678636 ,  10.16773826,\n",
       "         10.16761425,  10.16749093]))"
      ]
     },
     "execution_count": 17,
     "metadata": {},
     "output_type": "execute_result"
    }
   ],
   "source": [
    "alpha = 0.001\n",
    "n_iteration = 30\n",
    "descente_gradient(X, y_obs, theta, alpha, n_iteration)"
   ]
  },
  {
   "cell_type": "markdown",
   "metadata": {},
   "source": [
    "### 7. Evaluer votre modèle en utilisant le coefficient de détermination"
   ]
  },
  {
   "cell_type": "code",
   "execution_count": 18,
   "metadata": {},
   "outputs": [],
   "source": [
    "#Fontion pour calculer le coefficient de détermination\n",
    "def coeff_determination(X, y, theta):\n",
    "    i = y - model(X, theta)\n",
    "    j = y - np.mean(y)\n",
    "    r2 = 1-(np.sum(i**2)/np.sum(j**2))\n",
    "    return r2 "
   ]
  },
  {
   "cell_type": "code",
   "execution_count": 19,
   "metadata": {},
   "outputs": [
    {
     "data": {
      "text/plain": [
       "0.9725655560619499"
      ]
     },
     "execution_count": 19,
     "metadata": {},
     "output_type": "execute_result"
    }
   ],
   "source": [
    "new_theta, cout_evolution = descente_gradient(X, y_obs, theta, alpha, n_iteration)\n",
    "coeff_determination(X, y_obs, new_theta)"
   ]
  },
  {
   "cell_type": "code",
   "execution_count": 20,
   "metadata": {},
   "outputs": [
    {
     "data": {
      "image/png": "[encoded data removed]",
      "text/plain": [
       "<Figure size 432x288 with 1 Axes>"
      ]
     },
     "metadata": {
      "needs_background": "light"
     },
     "output_type": "display_data"
    }
   ],
   "source": [
    "#Nouveau y_predits avec les nouveaux paramètres a & b\n",
    "y_predits = model(X, new_theta)\n",
    "\n",
    "#Plot de valeurs prédites avec valeurs observées\n",
    "plt.scatter(y_obs, y_predits)\n",
    "plt.show()"
   ]
  },
  {
   "cell_type": "code",
   "execution_count": 21,
   "metadata": {
    "scrolled": true
   },
   "outputs": [
    {
     "data": {
      "image/png": "[encoded data removed]",
      "text/plain": [
       "<Figure size 432x288 with 1 Axes>"
      ]
     },
     "metadata": {
      "needs_background": "light"
     },
     "output_type": "display_data"
    }
   ],
   "source": [
    "#plt.scatter(xn, y_obs)\n",
    "plt.scatter(xn, y_obs)\n",
    "plt.plot(xn,y_predits, c = 'salmon')\n",
    "plt.show()"
   ]
  },
  {
   "cell_type": "markdown",
   "metadata": {},
   "source": [
    "### 8. Tracer la courbe de la fonction du coût selon les itérations"
   ]
  },
  {
   "cell_type": "code",
   "execution_count": 22,
   "metadata": {},
   "outputs": [
    {
     "data": {
      "image/png": "[encoded data removed]",
      "text/plain": [
       "<Figure size 432x288 with 1 Axes>"
      ]
     },
     "metadata": {
      "needs_background": "light"
     },
     "output_type": "display_data"
    }
   ],
   "source": [
    "# Définition des variables\n",
    "n = np.arange(30)\n",
    "#cout_evolution = descente_gradient(X, y_obs, theta, 0.01, 30)[1]\n",
    "\n",
    "# Plot\n",
    "plt.scatter(n, cout_evolution)\n",
    "plt.show()"
   ]
  },
  {
   "cell_type": "markdown",
   "metadata": {},
   "source": [
    "#### Calcul de l'erreur"
   ]
  },
  {
   "cell_type": "code",
   "execution_count": 23,
   "metadata": {},
   "outputs": [
    {
     "data": {
      "text/plain": [
       "20.33498186821034"
      ]
     },
     "execution_count": 23,
     "metadata": {},
     "output_type": "execute_result"
    }
   ],
   "source": [
    "mse_lin_manuel = mean_squared_error(y_obs, y_predits)\n",
    "mse_lin_manuel"
   ]
  },
  {
   "cell_type": "markdown",
   "metadata": {},
   "source": [
    "## II. Régression linéaire multiple"
   ]
  },
  {
   "cell_type": "code",
   "execution_count": 24,
   "metadata": {},
   "outputs": [
    {
     "data": {
      "text/html": [
       "<div>\n",
       "<style scoped>\n",
       "    .dataframe tbody tr th:only-of-type {\n",
       "        vertical-align: middle;\n",
       "    }\n",
       "\n",
       "    .dataframe tbody tr th {\n",
       "        vertical-align: top;\n",
       "    }\n",
       "\n",
       "    .dataframe thead th {\n",
       "        text-align: right;\n",
       "    }\n",
       "</style>\n",
       "<table border=\"1\" class=\"dataframe\">\n",
       "  <thead>\n",
       "    <tr style=\"text-align: right;\">\n",
       "      <th></th>\n",
       "      <th>CRIM</th>\n",
       "      <th>ZN</th>\n",
       "      <th>INDUS</th>\n",
       "      <th>CHAS</th>\n",
       "      <th>NOX</th>\n",
       "      <th>RM</th>\n",
       "      <th>AGE</th>\n",
       "      <th>DIS</th>\n",
       "      <th>RAD</th>\n",
       "      <th>TAX</th>\n",
       "      <th>PTRATIO</th>\n",
       "      <th>B</th>\n",
       "      <th>LSTAT</th>\n",
       "      <th>MEDV</th>\n",
       "    </tr>\n",
       "  </thead>\n",
       "  <tbody>\n",
       "    <tr>\n",
       "      <th>0</th>\n",
       "      <td>0.00632</td>\n",
       "      <td>18.0</td>\n",
       "      <td>2.31</td>\n",
       "      <td>0</td>\n",
       "      <td>0.538</td>\n",
       "      <td>6.575</td>\n",
       "      <td>65.2</td>\n",
       "      <td>4.0900</td>\n",
       "      <td>1</td>\n",
       "      <td>296</td>\n",
       "      <td>15.3</td>\n",
       "      <td>396.90</td>\n",
       "      <td>4.98</td>\n",
       "      <td>24.0</td>\n",
       "    </tr>\n",
       "    <tr>\n",
       "      <th>1</th>\n",
       "      <td>0.02731</td>\n",
       "      <td>0.0</td>\n",
       "      <td>7.07</td>\n",
       "      <td>0</td>\n",
       "      <td>0.469</td>\n",
       "      <td>6.421</td>\n",
       "      <td>78.9</td>\n",
       "      <td>4.9671</td>\n",
       "      <td>2</td>\n",
       "      <td>242</td>\n",
       "      <td>17.8</td>\n",
       "      <td>396.90</td>\n",
       "      <td>9.14</td>\n",
       "      <td>21.6</td>\n",
       "    </tr>\n",
       "    <tr>\n",
       "      <th>2</th>\n",
       "      <td>0.02729</td>\n",
       "      <td>0.0</td>\n",
       "      <td>7.07</td>\n",
       "      <td>0</td>\n",
       "      <td>0.469</td>\n",
       "      <td>7.185</td>\n",
       "      <td>61.1</td>\n",
       "      <td>4.9671</td>\n",
       "      <td>2</td>\n",
       "      <td>242</td>\n",
       "      <td>17.8</td>\n",
       "      <td>392.83</td>\n",
       "      <td>4.03</td>\n",
       "      <td>34.7</td>\n",
       "    </tr>\n",
       "    <tr>\n",
       "      <th>3</th>\n",
       "      <td>0.03237</td>\n",
       "      <td>0.0</td>\n",
       "      <td>2.18</td>\n",
       "      <td>0</td>\n",
       "      <td>0.458</td>\n",
       "      <td>6.998</td>\n",
       "      <td>45.8</td>\n",
       "      <td>6.0622</td>\n",
       "      <td>3</td>\n",
       "      <td>222</td>\n",
       "      <td>18.7</td>\n",
       "      <td>394.63</td>\n",
       "      <td>2.94</td>\n",
       "      <td>33.4</td>\n",
       "    </tr>\n",
       "    <tr>\n",
       "      <th>4</th>\n",
       "      <td>0.06905</td>\n",
       "      <td>0.0</td>\n",
       "      <td>2.18</td>\n",
       "      <td>0</td>\n",
       "      <td>0.458</td>\n",
       "      <td>7.147</td>\n",
       "      <td>54.2</td>\n",
       "      <td>6.0622</td>\n",
       "      <td>3</td>\n",
       "      <td>222</td>\n",
       "      <td>18.7</td>\n",
       "      <td>396.90</td>\n",
       "      <td>5.33</td>\n",
       "      <td>36.2</td>\n",
       "    </tr>\n",
       "  </tbody>\n",
       "</table>\n",
       "</div>"
      ],
      "text/plain": [
       "      CRIM    ZN  INDUS  CHAS    NOX     RM   AGE     DIS  RAD  TAX  PTRATIO  \\\n",
       "0  0.00632  18.0   2.31     0  0.538  6.575  65.2  4.0900    1  296     15.3   \n",
       "1  0.02731   0.0   7.07     0  0.469  6.421  78.9  4.9671    2  242     17.8   \n",
       "2  0.02729   0.0   7.07     0  0.469  7.185  61.1  4.9671    2  242     17.8   \n",
       "3  0.03237   0.0   2.18     0  0.458  6.998  45.8  6.0622    3  222     18.7   \n",
       "4  0.06905   0.0   2.18     0  0.458  7.147  54.2  6.0622    3  222     18.7   \n",
       "\n",
       "        B  LSTAT  MEDV  \n",
       "0  396.90   4.98  24.0  \n",
       "1  396.90   9.14  21.6  \n",
       "2  392.83   4.03  34.7  \n",
       "3  394.63   2.94  33.4  \n",
       "4  396.90   5.33  36.2  "
      ]
     },
     "execution_count": 24,
     "metadata": {},
     "output_type": "execute_result"
    }
   ],
   "source": [
    "path2 = \"boston_house_prices.csv\"\n",
    "boston_prices = pd.read_csv(path2)\n",
    "boston_prices.head()"
   ]
  },
  {
   "cell_type": "code",
   "execution_count": 25,
   "metadata": {},
   "outputs": [
    {
     "data": {
      "text/plain": [
       "(506, 14)"
      ]
     },
     "execution_count": 25,
     "metadata": {},
     "output_type": "execute_result"
    }
   ],
   "source": [
    "boston_prices.shape"
   ]
  },
  {
   "cell_type": "code",
   "execution_count": 26,
   "metadata": {},
   "outputs": [
    {
     "data": {
      "text/plain": [
       "MEDV       1.000000\n",
       "RM         0.695360\n",
       "ZN         0.360445\n",
       "B          0.333461\n",
       "DIS        0.249929\n",
       "CHAS       0.175260\n",
       "AGE       -0.376955\n",
       "RAD       -0.381626\n",
       "CRIM      -0.388305\n",
       "NOX       -0.427321\n",
       "TAX       -0.468536\n",
       "INDUS     -0.483725\n",
       "PTRATIO   -0.507787\n",
       "LSTAT     -0.737663\n",
       "dtype: float64"
      ]
     },
     "execution_count": 26,
     "metadata": {},
     "output_type": "execute_result"
    }
   ],
   "source": [
    "boston_prices.corrwith(boston_prices['MEDV'], method = 'pearson').sort_values(ascending = False)"
   ]
  },
  {
   "cell_type": "code",
   "execution_count": 27,
   "metadata": {},
   "outputs": [
    {
     "data": {
      "text/plain": [
       "Index(['CRIM', 'ZN', 'INDUS', 'CHAS', 'NOX', 'RM', 'AGE', 'DIS', 'RAD', 'TAX',\n",
       "       'PTRATIO', 'B', 'LSTAT'],\n",
       "      dtype='object')"
      ]
     },
     "execution_count": 27,
     "metadata": {},
     "output_type": "execute_result"
    }
   ],
   "source": [
    "boston_prices.columns[:-1]"
   ]
  },
  {
   "cell_type": "code",
   "execution_count": 28,
   "metadata": {},
   "outputs": [
    {
     "data": {
      "text/plain": [
       "(506,)"
      ]
     },
     "execution_count": 28,
     "metadata": {},
     "output_type": "execute_result"
    }
   ],
   "source": [
    "#Définition des features\n",
    "features = boston_prices[['RM', 'LSTAT']]   # ==> choix des features RM et LSTAT car corrélation forte avec la target MDEV \n",
    "ones = np.ones(features.shape[0]).reshape(len(features), 1)\n",
    "X = np.hstack((features, ones))\n",
    "X.shape\n",
    "\n",
    "#Défintion de la target\n",
    "y_obs = boston_prices['MEDV']\n",
    "y_obs.shape"
   ]
  },
  {
   "cell_type": "code",
   "execution_count": 29,
   "metadata": {},
   "outputs": [
    {
     "data": {
      "text/plain": [
       "array([7, 4, 9])"
      ]
     },
     "execution_count": 29,
     "metadata": {},
     "output_type": "execute_result"
    }
   ],
   "source": [
    "#Définition du theta\n",
    "a = np.random.randint(0, 10)\n",
    "b = np.random.randint(0, 10)\n",
    "c = np.random.randint(0, 10)\n",
    "theta = np.hstack((a,b,c))\n",
    "theta"
   ]
  },
  {
   "cell_type": "markdown",
   "metadata": {},
   "source": [
    "### 1. Calcul du modèle"
   ]
  },
  {
   "cell_type": "code",
   "execution_count": 30,
   "metadata": {},
   "outputs": [
    {
     "data": {
      "text/plain": [
       "array([ 74.945,  90.507,  75.415,  69.746,  80.349,  74.85 , 100.804,\n",
       "       128.804, 168.137, 119.428, 135.439, 104.143, 113.063,  83.683,\n",
       "        92.712,  83.718,  76.865, 109.61 ,  93.952,  94.209, 132.07 ,\n",
       "       106.075, 126.874, 129.211, 115.668, 114.233, 108.931, 120.449,\n",
       "       105.665, 103.638, 139.391, 103.664, 161.49 , 122.307, 133.032,\n",
       "        89.251,  95.527,  85.03 ,  91.282,  72.445,  66.088,  75.75 ,\n",
       "        75.423,  82.237,  89.683,  89.614, 106.102, 126.41 , 170.033,\n",
       "       113.014, 104.541,  89.525,  75.697,  84.706, 109.416,  78.983,\n",
       "        76.761,  72.512,  79.455,  87.369, 101.787, 108.522,  81.112,\n",
       "        94.334,  90.928,  71.71 ,  90.469,  82.546, 100.518,  85.355,\n",
       "        80.799,  90.247,  73.535,  82.875,  80.031,  88.762, 100.833,\n",
       "        93.06 , 101.984,  86.518,  77.249,  84.213,  79.994,  82.209,\n",
       "        92.203,  81.53 , 102.545,  85.607,  80.049,  81.353,  89.159,\n",
       "        86.635,  86.734,  77.317,  95.103,  81.975,  97.501,  82.323,\n",
       "        78.02 ,  85.672,  93.769,  87.147,  96.355, 105.719, 101.489,\n",
       "       115.837, 124.492, 108.249, 103.398, 114.803, 104.365,  96.645,\n",
       "       115.231, 120.004,  94.578, 113.536, 100.392,  92.347, 111.584,\n",
       "       103.557, 107.57 , 108.108, 122.447, 151.632, 120.473, 110.142,\n",
       "       157.331, 117.611, 115.577, 121.819, 104.606, 102.322,  98.084,\n",
       "       109.874, 118.539, 121.185, 118.194, 112.538, 135.279, 125.897,\n",
       "       148.858, 181.773, 154.101, 152.956, 160.481, 163.11 , 114.996,\n",
       "       161.602, 158.582, 133.979, 108.254,  99.948,  92.564, 112.123,\n",
       "       112.383, 112.144, 110.464,  75.961,  77.182,  84.13 ,  74.75 ,\n",
       "        68.343,  71.294,  80.905,  96.538,  90.947,  79.303,  98.699,\n",
       "        97.633,  99.094, 107.845,  98.28 , 106.764,  90.072,  88.573,\n",
       "        76.142,  91.58 ,  78.365,  84.7  ,  78.02 ,  93.595,  89.808,\n",
       "        78.365,  77.661, 104.148, 104.671,  81.617,  83.194,  73.132,\n",
       "        80.855,  78.057,  74.933,  70.726,  76.72 ,  72.748,  76.005,\n",
       "        76.329,  93.189,  86.398,  76.065,  76.745,  81.854,  74.71 ,\n",
       "        79.211,  76.758,  93.717,  97.162, 121.721, 110.088, 138.768,\n",
       "       119.8  , 142.748, 113.769,  91.145, 165.084,  90.154, 104.256,\n",
       "        94.254, 122.337,  95.611,  96.497, 137.988,  96.873,  85.726,\n",
       "        83.422,  88.595,  77.8  ,  84.581,  78.482,  69.904,  97.467,\n",
       "        81.884,  77.239,  82.529,  88.282,  95.122,  93.577,  79.426,\n",
       "        79.807,  84.722, 102.799, 101.265,  98.386,  74.511,  98.151,\n",
       "       122.075,  88.396,  93.182,  92.111,  82.266,  78.009,  68.426,\n",
       "        71.819,  80.973,  78.036,  87.132,  73.618,  90.408,  91.491,\n",
       "        84.494,  97.781,  90.68 ,  91.426, 105.289,  91.842,  89.72 ,\n",
       "       117.258,  96.839,  73.93 , 105.04 , 101.992,  79.04 ,  85.686,\n",
       "        89.157,  70.426,  68.898,  84.069,  73.422,  83.134,  76.084,\n",
       "        78.78 ,  76.136,  74.555,  77.101,  90.016,  87.091, 104.33 ,\n",
       "        81.023,  83.605,  92.995,  70.347,  73.276,  74.21 ,  86.209,\n",
       "        92.663,  80.826,  84.403, 112.89 ,  73.295,  77.247,  81.377,\n",
       "        93.13 ,  89.145,  77.314,  87.372,  91.032,  86.82 ,  87.063,\n",
       "        73.605,  90.684,  94.371,  75.774,  98.041,  84.462,  92.089,\n",
       "        94.935, 123.718, 113.234,  95.114, 102.711,  82.782,  81.112,\n",
       "        82.087,  95.916,  78.385,  74.337,  77.784, 102.741,  89.956,\n",
       "        82.691,  88.368,  98.662,  82.537,  75.932,  80.17 ,  83.299,\n",
       "        89.283,  92.505,  85.453,  89.855,  87.936,  81.647,  89.38 ,\n",
       "        84.592,  75.558,  93.218, 100.966,  80.052,  79.405,  81.133,\n",
       "        78.35 ,  77.013,  81.348,  74.096,  80.841,  72.832, 122.884,\n",
       "       106.845,  97.809, 102.464,  84.946, 109.517,  87.294, 108.181,\n",
       "        91.62 ,  62.407,  99.741,  89.361,  56.83 ,  70.701,  69.952,\n",
       "        90.632,  85.645, 182.422, 189.846, 113.951, 148.503, 141.518,\n",
       "       148.42 , 139.681, 126.616, 139.135, 142.152, 145.88 , 162.096,\n",
       "       169.179, 154.684, 171.96 , 165.64 , 130.13 , 117.431, 126.397,\n",
       "       146.972, 113.031, 115.609, 122.777, 131.315, 128.909, 169.531,\n",
       "       169.844, 157.989, 134.681, 135.068, 125.523, 157.237, 140.701,\n",
       "       131.326,  96.776, 153.919, 136.084,  89.739, 140.479, 178.876,\n",
       "       125.405, 188.553, 170.238, 159.634, 152.688, 133.179, 147.728,\n",
       "       113.957, 113.842, 104.936, 144.881, 116.595, 147.832, 112.619,\n",
       "       110.494, 138.431, 149.98 , 123.996, 135.591, 102.095, 118.932,\n",
       "       113.136, 148.483, 126.427, 157.864, 186.625, 139.909, 138.166,\n",
       "       131.922, 118.893, 129.795, 145.138, 150.133, 124.547, 118.517,\n",
       "       124.815, 131.159, 126.003, 126.505, 122.159, 127.711, 130.936,\n",
       "       127.195, 126.872, 118.312, 118.027, 110.367, 121.587, 112.232,\n",
       "       109.179,  95.751, 105.343, 105.833, 119.264, 136.301, 123.002,\n",
       "       108.031, 117.329, 104.083, 111.499, 104.5  , 119.549, 148.534,\n",
       "       129.108, 145.768, 124.415, 105.043,  95.654,  87.21 ,  86.467,\n",
       "        91.014, 103.457,  95.504, 111.718,  96.135, 119.418, 142.778,\n",
       "       163.371, 123.161, 104.281,  96.989, 104.842, 119.09 , 131.29 ,\n",
       "       105.958, 102.813, 108.383, 108.509,  93.831,  88.16 ,  80.392,\n",
       "        82.478,  82.73 ])"
      ]
     },
     "execution_count": 30,
     "metadata": {},
     "output_type": "execute_result"
    }
   ],
   "source": [
    "y_predicts = model(X, theta)\n",
    "y_predicts"
   ]
  },
  {
   "cell_type": "markdown",
   "metadata": {},
   "source": [
    "### 2. Calcul de la fonction coût"
   ]
  },
  {
   "cell_type": "code",
   "execution_count": 31,
   "metadata": {},
   "outputs": [
    {
     "data": {
      "text/plain": [
       "3823.7109759120553"
      ]
     },
     "execution_count": 31,
     "metadata": {},
     "output_type": "execute_result"
    }
   ],
   "source": [
    "cout_reg_mult = cout(X, y_obs, theta)\n",
    "cout_reg_mult"
   ]
  },
  {
   "cell_type": "markdown",
   "metadata": {},
   "source": [
    "### 3. Calcul du gradient"
   ]
  },
  {
   "cell_type": "code",
   "execution_count": 32,
   "metadata": {},
   "outputs": [
    {
     "data": {
      "text/plain": [
       "array([ 496.17685219, 1256.21984257,   81.07188735])"
      ]
     },
     "execution_count": 32,
     "metadata": {},
     "output_type": "execute_result"
    }
   ],
   "source": [
    "gradient_reg_mult = gradient(X, y_obs, theta)\n",
    "gradient_reg_mult"
   ]
  },
  {
   "cell_type": "markdown",
   "metadata": {},
   "source": [
    "### 4. Calcul du gradient descendant"
   ]
  },
  {
   "cell_type": "code",
   "execution_count": 33,
   "metadata": {},
   "outputs": [],
   "source": [
    "alpha = 0.001\n",
    "n_iteration = 30\n",
    "theta_final, cout_evolution_reg_m = descente_gradient(X, y_obs, theta, alpha, n_iteration)"
   ]
  },
  {
   "cell_type": "code",
   "execution_count": 34,
   "metadata": {},
   "outputs": [
    {
     "data": {
      "text/plain": [
       "array([ 3.36976880e+01,  2.84320690e+01,  3.75687489e+01,  3.78929974e+01,\n",
       "        3.59702469e+01,  3.27729449e+01,  2.29343561e+01,  1.63260100e+01,\n",
       "        2.02206566e+00,  1.77886238e+01,  1.58556014e+01,  2.20015386e+01,\n",
       "        1.87752974e+01,  2.72035223e+01,  2.56981147e+01,  2.64399283e+01,\n",
       "        2.89763102e+01,  2.03818496e+01,  2.11627028e+01,  2.28692884e+01,\n",
       "        1.14856841e+01,  2.11846811e+01,  1.66571236e+01,  1.38608432e+01,\n",
       "        1.82923688e+01,  1.65538792e+01,  1.94070035e+01,  1.77913402e+01,\n",
       "        2.47718666e+01,  2.64998611e+01,  1.04211524e+01,  2.25456082e+01,\n",
       "        5.93147469e+00,  1.50145923e+01,  1.46714291e+01,  2.55758821e+01,\n",
       "        2.32563082e+01,  2.61860309e+01,  2.52368172e+01,  3.45125206e+01,\n",
       "        3.90638593e+01,  3.47560966e+01,  3.09049386e+01,  2.93168327e+01,\n",
       "        2.63494522e+01,  2.38308736e+01,  2.00036452e+01,  1.60496659e+01,\n",
       "       -1.76089885e-02,  1.69069207e+01,  2.15910849e+01,  2.66942709e+01,\n",
       "        3.30724018e+01,  2.72450320e+01,  1.97661197e+01,  3.70126045e+01,\n",
       "        3.19421603e+01,  3.59432315e+01,  2.96449089e+01,  2.60512298e+01,\n",
       "        2.08886562e+01,  2.05220340e+01,  3.12308921e+01,  2.96213035e+01,\n",
       "        3.27951705e+01,  3.27137298e+01,  2.42855039e+01,  2.70489415e+01,\n",
       "        2.02718643e+01,  2.63266351e+01,  3.10607792e+01,  2.54870847e+01,\n",
       "        3.07393692e+01,  2.93652812e+01,  3.03266444e+01,  2.80241338e+01,\n",
       "        2.46770681e+01,  2.58914394e+01,  2.40541279e+01,  2.59364548e+01,\n",
       "        3.40642124e+01,  3.14515773e+01,  3.05269078e+01,  2.90359946e+01,\n",
       "        2.77584332e+01,  3.22574461e+01,  2.24778988e+01,  2.78051031e+01,\n",
       "        3.51343506e+01,  3.52498170e+01,  2.87744922e+01,  2.93860734e+01,\n",
       "        2.96015974e+01,  3.06623509e+01,  2.60474031e+01,  3.21029643e+01,\n",
       "        2.48277222e+01,  4.14756900e+01,  4.10198494e+01,  3.62782729e+01,\n",
       "        2.95463343e+01,  3.17113769e+01,  2.67278546e+01,  2.24097947e+01,\n",
       "        2.37633136e+01,  1.77675106e+01,  1.53021965e+01,  2.16523249e+01,\n",
       "        2.52541532e+01,  2.05287265e+01,  2.31603752e+01,  2.86811272e+01,\n",
       "        1.83397554e+01,  1.82080907e+01,  2.62237633e+01,  1.89016536e+01,\n",
       "        2.41223309e+01,  2.53061811e+01,  1.90683091e+01,  2.03390307e+01,\n",
       "        2.01529416e+01,  2.08844096e+01,  1.66810511e+01,  8.01110247e+00,\n",
       "        1.66832486e+01,  2.02101318e+01,  4.85926216e+00,  1.62463974e+01,\n",
       "        2.16415099e+01,  1.47284204e+01,  2.48188827e+01,  2.45780231e+01,\n",
       "        2.60386372e+01,  1.92081230e+01,  1.64122383e+01,  1.94783934e+01,\n",
       "        1.77195810e+01,  2.26234180e+01,  1.24898663e+01,  1.69833233e+01,\n",
       "        1.08547694e+01, -5.71980774e+00,  4.36569016e+00,  5.10501044e+00,\n",
       "       -6.57465313e-01,  6.66864692e+00,  1.65353593e+01, -8.13231168e-01,\n",
       "        1.71742224e+00,  1.11406435e+01,  2.16181740e+01,  1.91819717e+01,\n",
       "        1.86311106e+01,  1.78521592e+01,  2.05348749e+01,  2.07510409e+01,\n",
       "        1.54405769e+01,  3.58327042e+01,  2.97485469e+01,  3.07595941e+01,\n",
       "        3.16200841e+01,  4.14960359e+01,  4.27412503e+01,  4.38698384e+01,\n",
       "        2.30650579e+01,  2.62135893e+01,  4.13836574e+01,  2.26248735e+01,\n",
       "        2.58144705e+01,  2.59591246e+01,  2.01105184e+01,  2.27591315e+01,\n",
       "        1.84194649e+01,  2.85182489e+01,  2.52761041e+01,  3.31801886e+01,\n",
       "        2.55093830e+01,  3.10576429e+01,  3.28985612e+01,  3.55122088e+01,\n",
       "        3.63997899e+01,  2.68070210e+01,  3.65652835e+01,  3.28762377e+01,\n",
       "        1.93447016e+01,  2.28013085e+01,  4.01082682e+01,  3.27989973e+01,\n",
       "        3.40689284e+01,  3.60810215e+01,  3.53119453e+01,  3.47762711e+01,\n",
       "        3.88051964e+01,  3.46875232e+01,  3.44886668e+01,  4.19315295e+01,\n",
       "        3.79875738e+01,  3.21965040e+01,  3.51486734e+01,  3.60140772e+01,\n",
       "        3.68771857e+01,  2.91002962e+01,  4.05481557e+01,  4.09105071e+01,\n",
       "        4.27681173e+01,  2.40791415e+01,  2.59891763e+01,  1.57125018e+01,\n",
       "        2.07363234e+01,  8.17210216e+00,  1.73983941e+01,  7.47705743e+00,\n",
       "        1.80445704e+01,  2.79559803e+01,  1.42107739e+00,  2.69615523e+01,\n",
       "        2.11772729e+01,  2.88563760e+01,  1.66455666e+01,  2.67215083e+01,\n",
       "        3.02689869e+01,  1.37619223e+01,  2.96940752e+01,  3.10312464e+01,\n",
       "        4.24668091e+01,  4.40616328e+01,  4.25224921e+01,  3.49177899e+01,\n",
       "        4.00149021e+01,  3.49254928e+01,  2.36436984e+01,  3.72879856e+01,\n",
       "        4.46232584e+01,  4.25864485e+01,  3.10403585e+01,  2.49734625e+01,\n",
       "        2.89693977e+01,  3.76061351e+01,  3.17517004e+01,  3.12271390e+01,\n",
       "        2.81914577e+01,  2.33524895e+01,  2.58642525e+01,  3.26230559e+01,\n",
       "        2.09126331e+01,  1.44485948e+01,  2.69571320e+01,  2.64219524e+01,\n",
       "        2.80720888e+01,  3.26331563e+01,  3.22827565e+01,  3.45822297e+01,\n",
       "        3.70572495e+01,  4.30906629e+01,  2.97903776e+01,  2.57816520e+01,\n",
       "        3.98239476e+01,  4.34281238e+01,  3.41426894e+01,  3.28368771e+01,\n",
       "        3.15701317e+01,  3.55905869e+01,  4.11433671e+01,  3.03298817e+01,\n",
       "        3.32139954e+01,  2.30019656e+01,  2.50043561e+01,  3.90007954e+01,\n",
       "        3.98435295e+01,  2.11726800e+01,  2.15866152e+01,  3.03812908e+01,\n",
       "        3.05176484e+01,  3.71282941e+01,  3.61334199e+01,  3.71807409e+01,\n",
       "        3.57397096e+01,  3.57599325e+01,  3.08483915e+01,  3.49401366e+01,\n",
       "        4.08120051e+01,  3.59487632e+01,  4.08200300e+01,  4.19465185e+01,\n",
       "        3.29396762e+01,  2.95760892e+01,  2.33994320e+01,  2.96357231e+01,\n",
       "        2.96246114e+01,  2.86958194e+01,  3.68303664e+01,  3.79111227e+01,\n",
       "        3.42593147e+01,  2.76798088e+01,  2.51410810e+01,  3.27646979e+01,\n",
       "        3.09406462e+01,  1.81734945e+01,  3.26408844e+01,  3.61235679e+01,\n",
       "        3.38794568e+01,  2.88228176e+01,  2.92897447e+01,  3.57183986e+01,\n",
       "        3.46331493e+01,  2.95670518e+01,  3.59905455e+01,  3.21802057e+01,\n",
       "        3.44575532e+01,  2.54396981e+01,  1.78812216e+01,  3.05007818e+01,\n",
       "        2.37621033e+01,  2.90689606e+01,  2.89567051e+01,  2.25264947e+01,\n",
       "        1.60252933e+01,  1.80269639e+01,  2.69164379e+01,  2.30750593e+01,\n",
       "        3.05774802e+01,  3.07063549e+01,  2.82432130e+01,  2.22778816e+01,\n",
       "        3.17078448e+01,  3.29197965e+01,  3.11968642e+01,  2.28701535e+01,\n",
       "        2.49568927e+01,  2.99925923e+01,  2.72008312e+01,  2.15137940e+01,\n",
       "        2.80545802e+01,  3.17295748e+01,  3.05312292e+01,  2.78855292e+01,\n",
       "        2.51475010e+01,  2.44368252e+01,  2.74407026e+01,  2.57516497e+01,\n",
       "        2.61649924e+01,  3.62316019e+01,  2.95205292e+01,  3.18527957e+01,\n",
       "        3.54905030e+01,  2.50220836e+01,  2.21425870e+01,  3.19141830e+01,\n",
       "        3.28713732e+01,  3.43920424e+01,  3.22091702e+01,  3.31583597e+01,\n",
       "        2.74159100e+01,  3.49330494e+01,  2.61055300e+01,  3.00858089e+01,\n",
       "        1.82072761e+01,  2.37934895e+01,  2.45074489e+01,  2.31360520e+01,\n",
       "        2.98020830e+01,  2.21185858e+01,  2.23671968e+01,  1.95465459e+01,\n",
       "        4.35949772e+01,  1.73646325e+01,  1.63470706e+01,  1.19733993e+01,\n",
       "        2.81282381e+01,  3.55664594e+01,  3.79546815e+01,  2.70537575e+01,\n",
       "        2.61817590e+01, -6.63820460e+00, -1.37040721e+01,  2.78692099e+01,\n",
       "        1.40662942e+01,  1.69272708e+01,  1.23252367e+01,  1.36857681e+01,\n",
       "        2.21435279e+01,  1.59463500e+01,  8.50553748e+00,  7.38109919e+00,\n",
       "       -4.60697692e+00, -5.83976894e-01, -7.17841249e-01, -3.16073290e+00,\n",
       "       -2.21914949e+00,  1.08360253e+01,  1.64267579e+01,  1.61909122e+01,\n",
       "        3.90900972e+00,  2.07772901e+01,  1.80659056e+01,  1.99347276e+01,\n",
       "        1.71670181e+01,  1.35106908e+01,  4.73740233e-01,  3.00427050e+00,\n",
       "        7.13152419e+00,  1.58399704e+01,  1.61340935e+01,  1.18271191e+01,\n",
       "        4.34731858e+00,  9.86619305e+00,  2.29993684e+00,  2.13870179e+01,\n",
       "        5.81860041e+00,  1.87936469e+01,  2.42884423e+01,  1.63131459e+01,\n",
       "       -7.49121376e+00,  1.05873870e+01, -1.08523549e+01,  6.71252779e+00,\n",
       "        1.18942392e+01,  4.10300163e+00,  1.37198443e+01,  1.54256658e+01,\n",
       "        2.19534121e+01,  1.93293927e+01,  1.94176954e+01,  1.14768699e+01,\n",
       "        1.56849928e+01,  9.31259243e+00,  1.85557730e+01,  2.15301175e+01,\n",
       "        1.38309157e+01,  1.18986089e+01,  1.87948803e+01,  1.88038946e+01,\n",
       "        2.52892177e+01,  2.07567705e+01,  2.08469255e+01,  1.39406295e+01,\n",
       "        1.88709609e+01,  8.24756708e+00, -1.04077837e+00,  9.71561262e+00,\n",
       "        1.14446196e+01,  1.70075728e+01,  1.93446290e+01,  1.81072438e+01,\n",
       "        9.77396365e+00,  1.23747471e+01,  1.85982962e+01,  1.96572721e+01,\n",
       "        1.75021562e+01,  1.72883614e+01,  2.08752501e+01,  2.01216323e+01,\n",
       "        1.89628694e+01,  2.46306719e+01,  1.93884857e+01,  1.90805586e+01,\n",
       "        1.55692559e+01,  1.76479701e+01,  2.01191127e+01,  2.07714869e+01,\n",
       "        2.17682124e+01,  2.21956789e+01,  2.26437650e+01,  2.76011613e+01,\n",
       "        2.29847064e+01,  1.99001798e+01,  1.74925253e+01,  1.31676508e+01,\n",
       "        1.62997850e+01,  1.89974634e+01,  1.94314014e+01,  2.34604246e+01,\n",
       "        2.27960988e+01,  2.82704768e+01,  1.39723083e+01,  1.08646961e+01,\n",
       "        1.82885674e+01,  5.99547843e+00,  1.76115480e+01,  2.31978845e+01,\n",
       "        2.58508190e+01,  3.14908895e+01,  3.37332230e+01,  2.39725398e+01,\n",
       "        2.12843187e+01,  2.63508110e+01,  2.06183879e+01,  2.35096625e+01,\n",
       "        1.41851654e+01,  7.53442020e+00, -2.02044652e-01,  1.66300346e+01,\n",
       "        2.17933239e+01,  2.19778816e+01,  2.12661692e+01,  1.56911170e+01,\n",
       "        1.05187893e+01,  2.00954799e+01,  2.24308332e+01,  1.79570317e+01,\n",
       "        2.09255488e+01,  2.86507788e+01,  2.71003537e+01,  3.48372890e+01,\n",
       "        3.30734890e+01,  2.79952420e+01])"
      ]
     },
     "execution_count": 34,
     "metadata": {},
     "output_type": "execute_result"
    }
   ],
   "source": [
    "#Calcul du nouveau y\n",
    "y_predit = model(X, theta_final)\n",
    "y_predit"
   ]
  },
  {
   "cell_type": "markdown",
   "metadata": {},
   "source": [
    "### 5. Fonction de cout par rapport aux itérations"
   ]
  },
  {
   "cell_type": "code",
   "execution_count": 35,
   "metadata": {},
   "outputs": [
    {
     "data": {
      "image/png": "[encoded data removed]",
      "text/plain": [
       "<Figure size 432x288 with 1 Axes>"
      ]
     },
     "metadata": {
      "needs_background": "light"
     },
     "output_type": "display_data"
    }
   ],
   "source": [
    "n =np.arange(n_iteration)\n",
    "plt.scatter(n, cout_evolution_reg_m)\n",
    "plt.show()"
   ]
  },
  {
   "cell_type": "code",
   "execution_count": 36,
   "metadata": {},
   "outputs": [
    {
     "data": {
      "text/plain": [
       "-89.58827480302483"
      ]
     },
     "execution_count": 36,
     "metadata": {},
     "output_type": "execute_result"
    }
   ],
   "source": [
    "#Calcul du coefficience de détermin\n",
    "R2 = coeff_determination(X, y_obs, theta)\n",
    "R2"
   ]
  },
  {
   "cell_type": "markdown",
   "metadata": {},
   "source": [
    "### 6. Calcul de l'erreur"
   ]
  },
  {
   "cell_type": "code",
   "execution_count": 37,
   "metadata": {},
   "outputs": [
    {
     "data": {
      "text/plain": [
       "41.760504790916265"
      ]
     },
     "execution_count": 37,
     "metadata": {},
     "output_type": "execute_result"
    }
   ],
   "source": [
    "from sklearn.metrics import mean_squared_error\n",
    "\n",
    "mse_mult_manuel = mean_squared_error(y_obs, y_predit)\n",
    "mse_mult_manuel"
   ]
  },
  {
   "cell_type": "markdown",
   "metadata": {},
   "source": [
    "## III. Régression Polynomiale"
   ]
  },
  {
   "cell_type": "code",
   "execution_count": 38,
   "metadata": {},
   "outputs": [
    {
     "data": {
      "text/html": [
       "<div>\n",
       "<style scoped>\n",
       "    .dataframe tbody tr th:only-of-type {\n",
       "        vertical-align: middle;\n",
       "    }\n",
       "\n",
       "    .dataframe tbody tr th {\n",
       "        vertical-align: top;\n",
       "    }\n",
       "\n",
       "    .dataframe thead th {\n",
       "        text-align: right;\n",
       "    }\n",
       "</style>\n",
       "<table border=\"1\" class=\"dataframe\">\n",
       "  <thead>\n",
       "    <tr style=\"text-align: right;\">\n",
       "      <th></th>\n",
       "      <th>Position</th>\n",
       "      <th>Level</th>\n",
       "      <th>Salary</th>\n",
       "    </tr>\n",
       "  </thead>\n",
       "  <tbody>\n",
       "    <tr>\n",
       "      <th>0</th>\n",
       "      <td>Project Analyste</td>\n",
       "      <td>1</td>\n",
       "      <td>45000</td>\n",
       "    </tr>\n",
       "    <tr>\n",
       "      <th>1</th>\n",
       "      <td>Ingenieur</td>\n",
       "      <td>2</td>\n",
       "      <td>50000</td>\n",
       "    </tr>\n",
       "    <tr>\n",
       "      <th>2</th>\n",
       "      <td>Senior Consultant</td>\n",
       "      <td>3</td>\n",
       "      <td>60000</td>\n",
       "    </tr>\n",
       "    <tr>\n",
       "      <th>3</th>\n",
       "      <td>Manager</td>\n",
       "      <td>4</td>\n",
       "      <td>80000</td>\n",
       "    </tr>\n",
       "    <tr>\n",
       "      <th>4</th>\n",
       "      <td>Country Manager</td>\n",
       "      <td>5</td>\n",
       "      <td>110000</td>\n",
       "    </tr>\n",
       "    <tr>\n",
       "      <th>5</th>\n",
       "      <td>Gouverneur</td>\n",
       "      <td>6</td>\n",
       "      <td>150000</td>\n",
       "    </tr>\n",
       "    <tr>\n",
       "      <th>6</th>\n",
       "      <td>Associate</td>\n",
       "      <td>7</td>\n",
       "      <td>200000</td>\n",
       "    </tr>\n",
       "    <tr>\n",
       "      <th>7</th>\n",
       "      <td>Commercial</td>\n",
       "      <td>8</td>\n",
       "      <td>300000</td>\n",
       "    </tr>\n",
       "    <tr>\n",
       "      <th>8</th>\n",
       "      <td>C-level</td>\n",
       "      <td>9</td>\n",
       "      <td>500000</td>\n",
       "    </tr>\n",
       "    <tr>\n",
       "      <th>9</th>\n",
       "      <td>PDG</td>\n",
       "      <td>10</td>\n",
       "      <td>1000000</td>\n",
       "    </tr>\n",
       "  </tbody>\n",
       "</table>\n",
       "</div>"
      ],
      "text/plain": [
       "            Position  Level   Salary\n",
       "0   Project Analyste      1    45000\n",
       "1          Ingenieur      2    50000\n",
       "2  Senior Consultant      3    60000\n",
       "3            Manager      4    80000\n",
       "4    Country Manager      5   110000\n",
       "5         Gouverneur      6   150000\n",
       "6          Associate      7   200000\n",
       "7         Commercial      8   300000\n",
       "8            C-level      9   500000\n",
       "9                PDG     10  1000000"
      ]
     },
     "execution_count": 38,
     "metadata": {},
     "output_type": "execute_result"
    }
   ],
   "source": [
    "path = 'Position_Salaries.csv'\n",
    "salaire = pd.read_csv(path)\n",
    "salaire"
   ]
  },
  {
   "cell_type": "code",
   "execution_count": 39,
   "metadata": {},
   "outputs": [
    {
     "data": {
      "text/plain": [
       "(10, 3)"
      ]
     },
     "execution_count": 39,
     "metadata": {},
     "output_type": "execute_result"
    }
   ],
   "source": [
    "salaire.shape"
   ]
  },
  {
   "cell_type": "code",
   "execution_count": 40,
   "metadata": {},
   "outputs": [
    {
     "data": {
      "image/png": "[encoded data removed]",
      "text/plain": [
       "<Figure size 432x288 with 1 Axes>"
      ]
     },
     "metadata": {
      "needs_background": "light"
     },
     "output_type": "display_data"
    }
   ],
   "source": [
    "plt.scatter(salaire['Level'], salaire['Salary'])\n",
    "plt.show()"
   ]
  },
  {
   "cell_type": "code",
   "execution_count": 41,
   "metadata": {},
   "outputs": [
    {
     "data": {
      "text/plain": [
       "(10, 3)"
      ]
     },
     "execution_count": 41,
     "metadata": {},
     "output_type": "execute_result"
    }
   ],
   "source": [
    "#Features & target\n",
    "x = salaire['Level']\n",
    "x2 = x.pow(2)\n",
    "ones = np.ones(len(x))\n",
    "y = salaire['Salary']\n",
    "\n",
    "#Reshape\n",
    "x = np.array(x)\n",
    "x = x.reshape(len(x), 1)\n",
    "x2 = np.array(x2)\n",
    "x2 = x2.reshape(len(x2), 1)\n",
    "ones = ones.reshape(len(ones), 1)\n",
    "y = np.array(y)\n",
    "y = y.reshape(len(y), 1)\n",
    "\n",
    "#Matrice X\n",
    "X = np.hstack((x2, x, ones))\n",
    "X.shape"
   ]
  },
  {
   "cell_type": "code",
   "execution_count": 42,
   "metadata": {},
   "outputs": [
    {
     "data": {
      "text/plain": [
       "array([[-0.50628031],\n",
       "       [ 0.12793403],\n",
       "       [ 0.66839353]])"
      ]
     },
     "execution_count": 42,
     "metadata": {},
     "output_type": "execute_result"
    }
   ],
   "source": [
    "#Theta\n",
    "theta = np.random.randn(3, 1)\n",
    "theta"
   ]
  },
  {
   "cell_type": "markdown",
   "metadata": {},
   "source": [
    "### 1. Calcul du modèle"
   ]
  },
  {
   "cell_type": "code",
   "execution_count": 43,
   "metadata": {},
   "outputs": [
    {
     "data": {
      "text/plain": [
       "array([[  0.29004724],\n",
       "       [ -1.10085966],\n",
       "       [ -3.50432718],\n",
       "       [ -6.92035533],\n",
       "       [-11.34894409],\n",
       "       [-16.79009348],\n",
       "       [-23.24380349],\n",
       "       [-30.71007411],\n",
       "       [-39.18890536],\n",
       "       [-48.68029723]])"
      ]
     },
     "execution_count": 43,
     "metadata": {},
     "output_type": "execute_result"
    }
   ],
   "source": [
    "y_pred = model(X, theta)\n",
    "y_pred"
   ]
  },
  {
   "cell_type": "markdown",
   "metadata": {},
   "source": [
    "### 2. Calcul de la fonction coût"
   ]
  },
  {
   "cell_type": "code",
   "execution_count": 44,
   "metadata": {},
   "outputs": [
    {
     "data": {
      "text/plain": [
       "71464921224.01746"
      ]
     },
     "execution_count": 44,
     "metadata": {},
     "output_type": "execute_result"
    }
   ],
   "source": [
    "cout_polynom = cout(X, y, theta)\n",
    "cout_polynom"
   ]
  },
  {
   "cell_type": "markdown",
   "metadata": {},
   "source": [
    "### 3. Calcul du gradient"
   ]
  },
  {
   "cell_type": "code",
   "execution_count": 45,
   "metadata": {},
   "outputs": [
    {
     "data": {
      "text/plain": [
       "array([[-17972718.12671598],\n",
       "       [ -2039644.54816941],\n",
       "       [  -249518.11976127]])"
      ]
     },
     "execution_count": 45,
     "metadata": {},
     "output_type": "execute_result"
    }
   ],
   "source": [
    "gradient_polynom = gradient(X, y, theta)\n",
    "gradient_polynom"
   ]
  },
  {
   "cell_type": "markdown",
   "metadata": {},
   "source": [
    "### 4. Calcul du gradient descendant"
   ]
  },
  {
   "cell_type": "code",
   "execution_count": 46,
   "metadata": {},
   "outputs": [],
   "source": [
    "alpha = 0.0001\n",
    "n_iter = 30\n",
    "\n",
    "theta_new, cout_evol_polynom = descente_gradient(X, y, theta, alpha, n_iter)"
   ]
  },
  {
   "cell_type": "code",
   "execution_count": 47,
   "metadata": {},
   "outputs": [],
   "source": [
    "#Calcul du nouveau y\n",
    "\n",
    "y_predi = model(X, theta_new)"
   ]
  },
  {
   "cell_type": "markdown",
   "metadata": {},
   "source": [
    "### 5. Fonction de cout par rapport aux itérations"
   ]
  },
  {
   "cell_type": "code",
   "execution_count": 48,
   "metadata": {},
   "outputs": [
    {
     "data": {
      "image/png": "[encoded data removed]",
      "text/plain": [
       "<Figure size 432x288 with 1 Axes>"
      ]
     },
     "metadata": {
      "needs_background": "light"
     },
     "output_type": "display_data"
    }
   ],
   "source": [
    "n = np.arange(n_iter)\n",
    "\n",
    "plt.scatter(n, cout_evol_polynom)\n",
    "plt.show()"
   ]
  },
  {
   "cell_type": "code",
   "execution_count": 49,
   "metadata": {},
   "outputs": [
    {
     "data": {
      "image/png": "[encoded data removed]",
      "text/plain": [
       "<Figure size 432x288 with 1 Axes>"
      ]
     },
     "metadata": {
      "needs_background": "light"
     },
     "output_type": "display_data"
    }
   ],
   "source": [
    "plt.scatter(X[:, 1], y, c='r')\n",
    "plt.plot(X[:, 1], y_predi)\n",
    "plt.show()"
   ]
  },
  {
   "cell_type": "code",
   "execution_count": 50,
   "metadata": {},
   "outputs": [
    {
     "data": {
      "image/png": "[encoded data removed]",
      "text/plain": [
       "<Figure size 432x288 with 1 Axes>"
      ]
     },
     "metadata": {
      "needs_background": "light"
     },
     "output_type": "display_data"
    }
   ],
   "source": [
    "plt.plot(X[:, 1], y_predi)\n",
    "plt.show()"
   ]
  },
  {
   "cell_type": "markdown",
   "metadata": {},
   "source": [
    "### 6. Calcul de l'erreur"
   ]
  },
  {
   "cell_type": "code",
   "execution_count": 51,
   "metadata": {},
   "outputs": [
    {
     "data": {
      "text/plain": [
       "15532945210.560581"
      ]
     },
     "execution_count": 51,
     "metadata": {},
     "output_type": "execute_result"
    }
   ],
   "source": [
    "mse_poly_manuel = mean_squared_error(y, y_predi)\n",
    "mse_poly_manuel"
   ]
  },
  {
   "cell_type": "markdown",
   "metadata": {},
   "source": [
    "### Dataframe du vin"
   ]
  },
  {
   "cell_type": "code",
   "execution_count": 52,
   "metadata": {},
   "outputs": [
    {
     "data": {
      "text/html": [
       "<div>\n",
       "<style scoped>\n",
       "    .dataframe tbody tr th:only-of-type {\n",
       "        vertical-align: middle;\n",
       "    }\n",
       "\n",
       "    .dataframe tbody tr th {\n",
       "        vertical-align: top;\n",
       "    }\n",
       "\n",
       "    .dataframe thead th {\n",
       "        text-align: right;\n",
       "    }\n",
       "</style>\n",
       "<table border=\"1\" class=\"dataframe\">\n",
       "  <thead>\n",
       "    <tr style=\"text-align: right;\">\n",
       "      <th></th>\n",
       "      <th>acidité fixe</th>\n",
       "      <th>acidité volatile</th>\n",
       "      <th>acide citrique</th>\n",
       "      <th>sucre résiduel</th>\n",
       "      <th>chlorures</th>\n",
       "      <th>dioxyde de soufre libre</th>\n",
       "      <th>anhydride sulfureux total</th>\n",
       "      <th>densité</th>\n",
       "      <th>pH</th>\n",
       "      <th>sulphates</th>\n",
       "      <th>alcool</th>\n",
       "      <th>qualité</th>\n",
       "    </tr>\n",
       "  </thead>\n",
       "  <tbody>\n",
       "    <tr>\n",
       "      <th>0</th>\n",
       "      <td>7.4</td>\n",
       "      <td>0.70</td>\n",
       "      <td>0.00</td>\n",
       "      <td>1.9</td>\n",
       "      <td>0.076</td>\n",
       "      <td>11.0</td>\n",
       "      <td>34.0</td>\n",
       "      <td>0.9978</td>\n",
       "      <td>3.51</td>\n",
       "      <td>0.56</td>\n",
       "      <td>9.4</td>\n",
       "      <td>5</td>\n",
       "    </tr>\n",
       "    <tr>\n",
       "      <th>1</th>\n",
       "      <td>7.8</td>\n",
       "      <td>0.88</td>\n",
       "      <td>0.00</td>\n",
       "      <td>2.6</td>\n",
       "      <td>0.098</td>\n",
       "      <td>25.0</td>\n",
       "      <td>67.0</td>\n",
       "      <td>0.9968</td>\n",
       "      <td>3.20</td>\n",
       "      <td>0.68</td>\n",
       "      <td>9.8</td>\n",
       "      <td>5</td>\n",
       "    </tr>\n",
       "    <tr>\n",
       "      <th>2</th>\n",
       "      <td>7.8</td>\n",
       "      <td>0.76</td>\n",
       "      <td>0.04</td>\n",
       "      <td>2.3</td>\n",
       "      <td>0.092</td>\n",
       "      <td>15.0</td>\n",
       "      <td>54.0</td>\n",
       "      <td>0.9970</td>\n",
       "      <td>3.26</td>\n",
       "      <td>0.65</td>\n",
       "      <td>9.8</td>\n",
       "      <td>5</td>\n",
       "    </tr>\n",
       "    <tr>\n",
       "      <th>3</th>\n",
       "      <td>11.2</td>\n",
       "      <td>0.28</td>\n",
       "      <td>0.56</td>\n",
       "      <td>1.9</td>\n",
       "      <td>0.075</td>\n",
       "      <td>17.0</td>\n",
       "      <td>60.0</td>\n",
       "      <td>0.9980</td>\n",
       "      <td>3.16</td>\n",
       "      <td>0.58</td>\n",
       "      <td>9.8</td>\n",
       "      <td>6</td>\n",
       "    </tr>\n",
       "    <tr>\n",
       "      <th>4</th>\n",
       "      <td>7.4</td>\n",
       "      <td>0.70</td>\n",
       "      <td>0.00</td>\n",
       "      <td>1.9</td>\n",
       "      <td>0.076</td>\n",
       "      <td>11.0</td>\n",
       "      <td>34.0</td>\n",
       "      <td>0.9978</td>\n",
       "      <td>3.51</td>\n",
       "      <td>0.56</td>\n",
       "      <td>9.4</td>\n",
       "      <td>5</td>\n",
       "    </tr>\n",
       "  </tbody>\n",
       "</table>\n",
       "</div>"
      ],
      "text/plain": [
       "   acidité fixe  acidité volatile  acide citrique  sucre résiduel  chlorures  \\\n",
       "0           7.4              0.70            0.00             1.9      0.076   \n",
       "1           7.8              0.88            0.00             2.6      0.098   \n",
       "2           7.8              0.76            0.04             2.3      0.092   \n",
       "3          11.2              0.28            0.56             1.9      0.075   \n",
       "4           7.4              0.70            0.00             1.9      0.076   \n",
       "\n",
       "   dioxyde de soufre libre  anhydride sulfureux total  densité    pH  \\\n",
       "0                     11.0                       34.0   0.9978  3.51   \n",
       "1                     25.0                       67.0   0.9968  3.20   \n",
       "2                     15.0                       54.0   0.9970  3.26   \n",
       "3                     17.0                       60.0   0.9980  3.16   \n",
       "4                     11.0                       34.0   0.9978  3.51   \n",
       "\n",
       "   sulphates  alcool  qualité  \n",
       "0       0.56     9.4        5  \n",
       "1       0.68     9.8        5  \n",
       "2       0.65     9.8        5  \n",
       "3       0.58     9.8        6  \n",
       "4       0.56     9.4        5  "
      ]
     },
     "execution_count": 52,
     "metadata": {},
     "output_type": "execute_result"
    }
   ],
   "source": [
    "path_vin = 'qualite-vin-rouge.csv'\n",
    "df_vin = pd.read_csv(path_vin)\n",
    "df_vin.head()"
   ]
  },
  {
   "cell_type": "code",
   "execution_count": 53,
   "metadata": {},
   "outputs": [
    {
     "data": {
      "text/plain": [
       "(1599, 12)"
      ]
     },
     "execution_count": 53,
     "metadata": {},
     "output_type": "execute_result"
    }
   ],
   "source": [
    "df_vin.shape"
   ]
  },
  {
   "cell_type": "code",
   "execution_count": 54,
   "metadata": {
    "scrolled": true
   },
   "outputs": [
    {
     "data": {
      "text/plain": [
       "acidité fixe                 float64\n",
       "acidité volatile             float64\n",
       "acide citrique               float64\n",
       "sucre résiduel               float64\n",
       "chlorures                    float64\n",
       "dioxyde de soufre libre      float64\n",
       "anhydride sulfureux total    float64\n",
       "densité                      float64\n",
       "pH                           float64\n",
       "sulphates                    float64\n",
       "alcool                       float64\n",
       "qualité                        int64\n",
       "dtype: object"
      ]
     },
     "execution_count": 54,
     "metadata": {},
     "output_type": "execute_result"
    }
   ],
   "source": [
    "df_vin.dtypes"
   ]
  },
  {
   "cell_type": "markdown",
   "metadata": {},
   "source": [
    "#### Corrélation entre les variables"
   ]
  },
  {
   "cell_type": "code",
   "execution_count": 55,
   "metadata": {},
   "outputs": [
    {
     "data": {
      "text/plain": [
       "qualité                      1.000000\n",
       "alcool                       0.476166\n",
       "sulphates                    0.251397\n",
       "acide citrique               0.226373\n",
       "acidité fixe                 0.124052\n",
       "sucre résiduel               0.013732\n",
       "dioxyde de soufre libre     -0.050656\n",
       "pH                          -0.057731\n",
       "chlorures                   -0.128907\n",
       "densité                     -0.174919\n",
       "anhydride sulfureux total   -0.185100\n",
       "acidité volatile            -0.390558\n",
       "dtype: float64"
      ]
     },
     "execution_count": 55,
     "metadata": {},
     "output_type": "execute_result"
    }
   ],
   "source": [
    "df_vin.corrwith(df_vin['qualité']).sort_values(ascending = False)"
   ]
  },
  {
   "cell_type": "code",
   "execution_count": 56,
   "metadata": {
    "scrolled": true
   },
   "outputs": [
    {
     "data": {
      "image/png": "[encoded data removed]",
      "text/plain": [
       "<Figure size 432x288 with 1 Axes>"
      ]
     },
     "metadata": {
      "needs_background": "light"
     },
     "output_type": "display_data"
    }
   ],
   "source": [
    "plt.scatter(df_vin['alcool'], df_vin['qualité'])\n",
    "plt.show()"
   ]
  },
  {
   "cell_type": "code",
   "execution_count": 57,
   "metadata": {},
   "outputs": [
    {
     "data": {
      "text/plain": [
       "array([[ 88.36,   9.4 ,   1.  ],\n",
       "       [ 96.04,   9.8 ,   1.  ],\n",
       "       [ 96.04,   9.8 ,   1.  ],\n",
       "       ...,\n",
       "       [121.  ,  11.  ,   1.  ],\n",
       "       [104.04,  10.2 ,   1.  ],\n",
       "       [121.  ,  11.  ,   1.  ]])"
      ]
     },
     "execution_count": 57,
     "metadata": {},
     "output_type": "execute_result"
    }
   ],
   "source": [
    "#Features\n",
    "x = df_vin['alcool']\n",
    "x2 =x.pow(2)\n",
    "ones =np.ones(len(x)).reshape(-1, 1)\n",
    "x = np.array(x).reshape(-1, 1)\n",
    "x2 = np.array(x2).reshape(-1, 1)\n",
    "\n",
    "#Target\n",
    "y = df_vin['qualité']\n",
    "y = np.array(y).reshape(-1, 1)\n",
    "\n",
    "#Matrice X\n",
    "X = np.hstack((x2, x, ones))\n",
    "\n",
    "#Theta\n",
    "theta = np.random.randn(3, 1)\n",
    "theta\n",
    "X"
   ]
  },
  {
   "cell_type": "code",
   "execution_count": 58,
   "metadata": {},
   "outputs": [],
   "source": [
    "#Model\n",
    "y_pre = model(X, theta)\n",
    "\n",
    "#Coût\n",
    "cout_vin = cout(X, y, theta)\n",
    "\n",
    "#gradient\n",
    "gradient_vin = gradient(X, y, theta)\n",
    "\n",
    "#Descente de gradient\n",
    "alpha = 0.001\n",
    "n_iteration = 30\n",
    "new_theta_vin, cout_evolution_vin = descente_gradient(X, y, theta, alpha, n_iteration)\n",
    "\n"
   ]
  },
  {
   "cell_type": "code",
   "execution_count": 59,
   "metadata": {},
   "outputs": [
    {
     "data": {
      "text/plain": [
       "array([[1.03549607e+34],\n",
       "       [1.12504035e+34],\n",
       "       [1.12504035e+34],\n",
       "       ...,\n",
       "       [1.41595151e+34],\n",
       "       [1.21829768e+34],\n",
       "       [1.41595151e+34]])"
      ]
     },
     "execution_count": 59,
     "metadata": {},
     "output_type": "execute_result"
    }
   ],
   "source": [
    "y_new = model(X, new_theta_vin)\n",
    "y_new"
   ]
  },
  {
   "cell_type": "markdown",
   "metadata": {},
   "source": [
    "## IV. Scikit-Learn"
   ]
  },
  {
   "cell_type": "markdown",
   "metadata": {},
   "source": [
    "### 1. Régression Linéaire\n",
    "Dataframe des notes en fonction des heures révision"
   ]
  },
  {
   "cell_type": "code",
   "execution_count": 60,
   "metadata": {},
   "outputs": [],
   "source": [
    "#Conversion du dataframe en numpy array\n",
    "np_reg_simple = reg_simple.to_numpy()\n",
    "\n",
    "#Feature\n",
    "X = np_reg_simple[:, 0]\n",
    "X = X.reshape(-1, 1)\n",
    "\n",
    "#Target\n",
    "y = np_reg_simple[:, 1]\n",
    "y = y.reshape(-1, 1)\n",
    "\n",
    "#Fractionnement du jeu de données en x_train, x_test...\n",
    "X_train, X_test, y_train, y_test = train_test_split(X, y, test_size = 0.2)\n",
    "\n",
    "#Définition du modèle\n",
    "model = LinearRegression()\n",
    "\n",
    "#Entrainement du modèle\n",
    "model.fit(X_train, y_train)\n",
    "\n",
    "#Prédiction des y\n",
    "y_predict = model.predict(X_test)\n"
   ]
  },
  {
   "cell_type": "code",
   "execution_count": 61,
   "metadata": {},
   "outputs": [
    {
     "data": {
      "image/png": "[encoded data removed]",
      "text/plain": [
       "<Figure size 432x288 with 1 Axes>"
      ]
     },
     "metadata": {
      "needs_background": "light"
     },
     "output_type": "display_data"
    }
   ],
   "source": [
    "#Visualisation des résultats du modèle sur les valeurs tests\n",
    "plt.scatter(X_test, y_test, c = 'salmon')\n",
    "plt.plot(X_test, y_predict)\n",
    "plt.show()"
   ]
  },
  {
   "cell_type": "code",
   "execution_count": 62,
   "metadata": {},
   "outputs": [
    {
     "data": {
      "text/plain": [
       "39.138"
      ]
     },
     "execution_count": 62,
     "metadata": {},
     "output_type": "execute_result"
    }
   ],
   "source": [
    "#Calcul de la Mean Squared Error\n",
    "mse_lin_skl = mean_squared_error(y_test, y_predict)\n",
    "round(mse_lin_skl, 3)"
   ]
  },
  {
   "cell_type": "markdown",
   "metadata": {},
   "source": [
    "#### Comparaison des modèles"
   ]
  },
  {
   "cell_type": "code",
   "execution_count": 63,
   "metadata": {},
   "outputs": [
    {
     "name": "stdout",
     "output_type": "stream",
     "text": [
      "L'erreur quadratique à la moyenne est de 20.335 pour le modèle manuel et de 39.138 pour le modèle de SK-Learn.\n"
     ]
    }
   ],
   "source": [
    "print(f\"L'erreur quadratique à la moyenne est de {round(mse_lin_manuel, 3)} pour le modèle manuel et de {round(mse_lin_skl, 3)} pour le modèle de SK-Learn.\")"
   ]
  },
  {
   "cell_type": "markdown",
   "metadata": {},
   "source": [
    "### 2. Régression multiple"
   ]
  },
  {
   "cell_type": "code",
   "execution_count": 64,
   "metadata": {},
   "outputs": [
    {
     "data": {
      "text/plain": [
       "Index(['CRIM', 'ZN', 'INDUS', 'CHAS', 'NOX', 'RM', 'AGE', 'DIS', 'RAD', 'TAX',\n",
       "       'PTRATIO', 'B', 'LSTAT', 'MEDV'],\n",
       "      dtype='object')"
      ]
     },
     "execution_count": 64,
     "metadata": {},
     "output_type": "execute_result"
    }
   ],
   "source": [
    "boston_prices.columns"
   ]
  },
  {
   "cell_type": "code",
   "execution_count": 65,
   "metadata": {},
   "outputs": [
    {
     "data": {
      "text/plain": [
       "(102,)"
      ]
     },
     "execution_count": 65,
     "metadata": {},
     "output_type": "execute_result"
    }
   ],
   "source": [
    "#Conversion du dataframe en numpy array\n",
    "#np_boston_prices = boston_prices.to_numpy()\n",
    "\n",
    "#Feature\n",
    "X = boston_prices[['RM', 'LSTAT']]\n",
    "\n",
    "#Target\n",
    "y = boston_prices['MEDV']\n",
    "\n",
    "#Fractionnement du jeu de données en x_train, x_test...\n",
    "X_train, X_test, y_train, y_test = train_test_split(X, y, test_size = 0.2)\n",
    "\n",
    "#Définition du modèle\n",
    "model = LinearRegression()\n",
    "\n",
    "#Entrainement du modèle\n",
    "model.fit(X_train, y_train)\n",
    "\n",
    "#Prédiction des y\n",
    "y_predits = model.predict(X_test)\n",
    "y_predits.shape\n",
    "#y_test.shape"
   ]
  },
  {
   "cell_type": "code",
   "execution_count": 66,
   "metadata": {},
   "outputs": [
    {
     "data": {
      "image/png": "[encoded data removed]",
      "text/plain": [
       "<Figure size 432x288 with 1 Axes>"
      ]
     },
     "metadata": {
      "needs_background": "light"
     },
     "output_type": "display_data"
    }
   ],
   "source": [
    "#Visualisation des résultats du modèle sur les valeurs tests\n",
    "y_test = np.array(y_test)\n",
    "y_test = y_test.reshape(-1, 1)\n",
    "plt.scatter(X_test.iloc[:, 0], y_test, c = 'darkcyan')\n",
    "plt.plot(X_test.iloc[:, 0], y_predits, c = 'aquamarine')\n",
    "plt.show()\n"
   ]
  },
  {
   "cell_type": "code",
   "execution_count": 67,
   "metadata": {},
   "outputs": [
    {
     "data": {
      "text/plain": [
       "30.060024569214676"
      ]
     },
     "execution_count": 67,
     "metadata": {},
     "output_type": "execute_result"
    }
   ],
   "source": [
    "#Calcul de la Mean Squared Error\n",
    "mse_mult_skl = mean_squared_error(y_test, y_predits)\n",
    "mse_mult_skl"
   ]
  },
  {
   "cell_type": "markdown",
   "metadata": {},
   "source": [
    "#### Comparaison des modèles"
   ]
  },
  {
   "cell_type": "code",
   "execution_count": 68,
   "metadata": {},
   "outputs": [
    {
     "name": "stdout",
     "output_type": "stream",
     "text": [
      "L'erreur quadratique à la moyenne est de 41.761 pour le modèle manuel et de 30.06 pour le modèle de SK-Learn.\n"
     ]
    }
   ],
   "source": [
    "print(f\"L'erreur quadratique à la moyenne est de {round(mse_mult_manuel, 3)} pour le modèle manuel et de {round(mse_mult_skl, 3)} pour le modèle de SK-Learn.\")"
   ]
  },
  {
   "cell_type": "markdown",
   "metadata": {},
   "source": [
    "### 3. Régression polynomiale"
   ]
  },
  {
   "cell_type": "code",
   "execution_count": 69,
   "metadata": {},
   "outputs": [],
   "source": [
    "#Conversion du dataframe en numpy array\n",
    "np_salaire = salaire.to_numpy()\n",
    "\n",
    "#Feature\n",
    "X = np_salaire[:,1]\n",
    "X = X.reshape(-1, 1)\n",
    "\n",
    "#Target\n",
    "y = np_salaire[:, 2]\n",
    "y = y.reshape(-1, 1)\n",
    "\n",
    "#Polynomiale\n",
    "polynomiale = PolynomialFeatures(degree = 3)\n",
    "X = polynomiale.fit_transform(X)\n",
    "\n",
    "#Fractionnement du jeu de données en x_train, x_test...\n",
    "X_train, X_test, y_train, y_test = train_test_split(X, y, test_size = 0.3)\n",
    "\n",
    "#Définition du modèle\n",
    "model = LinearRegression()\n",
    "\n",
    "#Entrainement du modèle\n",
    "model.fit(X_train, y_train)\n",
    "\n",
    "#Prédiction des y\n",
    "y_predicts = model.predict(X_test)\n"
   ]
  },
  {
   "cell_type": "code",
   "execution_count": 70,
   "metadata": {},
   "outputs": [
    {
     "data": {
      "image/png": "[encoded data removed]",
      "text/plain": [
       "<Figure size 432x288 with 1 Axes>"
      ]
     },
     "metadata": {
      "needs_background": "light"
     },
     "output_type": "display_data"
    }
   ],
   "source": [
    "#Visualisation des résultats du modèle sur les valeurs tests\n",
    "plt.scatter(X_test[:, 2], y_test)\n",
    "plt.plot(X_test[:,2], y_predicts)\n",
    "plt.show()"
   ]
  },
  {
   "cell_type": "code",
   "execution_count": 71,
   "metadata": {},
   "outputs": [
    {
     "data": {
      "text/plain": [
       "1015086453.4470906"
      ]
     },
     "execution_count": 71,
     "metadata": {},
     "output_type": "execute_result"
    }
   ],
   "source": [
    "#Calcul de la Mean Squared Error\n",
    "mse_poly_skl = mean_squared_error(y_test, y_predicts)\n",
    "mse_poly_skl"
   ]
  },
  {
   "cell_type": "markdown",
   "metadata": {},
   "source": [
    "#### Comparaison des modèles"
   ]
  },
  {
   "cell_type": "code",
   "execution_count": 72,
   "metadata": {},
   "outputs": [
    {
     "name": "stdout",
     "output_type": "stream",
     "text": [
      "L'erreur quadratique à la moyenne est de 15532945210.561 pour le modèle manuel et de 1015086453.447 pour le modèle de SK-Learn.\n"
     ]
    }
   ],
   "source": [
    "print(f\"L'erreur quadratique à la moyenne est de {round(mse_poly_manuel, 3)} pour le modèle manuel et de {round(mse_poly_skl, 3)} pour le modèle de SK-Learn.\")"
   ]
  },
  {
   "cell_type": "code",
   "execution_count": null,
   "metadata": {},
   "outputs": [],
   "source": []
  }
 ],
 "metadata": {
  "kernelspec": {
   "display_name": "Python 3",
   "language": "python",
   "name": "python3"
  },
  "language_info": {
   "codemirror_mode": {
    "name": "ipython",
    "version": 3
   },
   "file_extension": ".py",
   "mimetype": "text/x-python",
   "name": "python",
   "nbconvert_exporter": "python",
   "pygments_lexer": "ipython3",
   "version": "3.8.3"
  }
 },
 "nbformat": 4,
 "nbformat_minor": 4
}
