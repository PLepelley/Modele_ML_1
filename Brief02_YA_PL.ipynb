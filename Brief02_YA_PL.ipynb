{
 "cells": [
  {
   "cell_type": "markdown",
   "metadata": {},
   "source": [
    "## Bibliothèques & données"
   ]
  },
  {
   "cell_type": "code",
   "execution_count": 1,
   "metadata": {},
   "outputs": [],
   "source": [
    "import pandas as pd\n",
    "import numpy as np\n",
    "import matplotlib.pyplot as plt\n",
    "import seaborn as sns\n",
    "\n",
    "#Librairie Scikit-Learn\n",
    "from sklearn.linear_model import LinearRegression\n",
    "from sklearn.model_selection import train_test_split\n",
    "from sklearn.metrics import mean_squared_error\n",
    "from sklearn.metrics import mean_absolute_error\n",
    "from sklearn.preprocessing import OneHotEncoder\n",
    "from sklearn import preprocessing\n",
    "from sklearn.preprocessing import StandardScaler\n",
    "from sklearn.preprocessing import PolynomialFeatures"
   ]
  },
  {
   "cell_type": "markdown",
   "metadata": {},
   "source": [
    "## I. Régression linéaire simple"
   ]
  },
  {
   "cell_type": "code",
   "execution_count": 2,
   "metadata": {},
   "outputs": [
    {
     "data": {
      "text/html": [
       "<div>\n",
       "<style scoped>\n",
       "    .dataframe tbody tr th:only-of-type {\n",
       "        vertical-align: middle;\n",
       "    }\n",
       "\n",
       "    .dataframe tbody tr th {\n",
       "        vertical-align: top;\n",
       "    }\n",
       "\n",
       "    .dataframe thead th {\n",
       "        text-align: right;\n",
       "    }\n",
       "</style>\n",
       "<table border=\"1\" class=\"dataframe\">\n",
       "  <thead>\n",
       "    <tr style=\"text-align: right;\">\n",
       "      <th></th>\n",
       "      <th>heure_rev</th>\n",
       "      <th>note</th>\n",
       "    </tr>\n",
       "  </thead>\n",
       "  <tbody>\n",
       "    <tr>\n",
       "      <th>0</th>\n",
       "      <td>2</td>\n",
       "      <td>10</td>\n",
       "    </tr>\n",
       "    <tr>\n",
       "      <th>1</th>\n",
       "      <td>3</td>\n",
       "      <td>12</td>\n",
       "    </tr>\n",
       "    <tr>\n",
       "      <th>2</th>\n",
       "      <td>4</td>\n",
       "      <td>20</td>\n",
       "    </tr>\n",
       "    <tr>\n",
       "      <th>3</th>\n",
       "      <td>5</td>\n",
       "      <td>22</td>\n",
       "    </tr>\n",
       "    <tr>\n",
       "      <th>4</th>\n",
       "      <td>6</td>\n",
       "      <td>21</td>\n",
       "    </tr>\n",
       "  </tbody>\n",
       "</table>\n",
       "</div>"
      ],
      "text/plain": [
       "   heure_rev  note\n",
       "0          2    10\n",
       "1          3    12\n",
       "2          4    20\n",
       "3          5    22\n",
       "4          6    21"
      ]
     },
     "execution_count": 2,
     "metadata": {},
     "output_type": "execute_result"
    }
   ],
   "source": [
    "path = \"reg_simple.csv\"\n",
    "reg_simple = pd.read_csv(path)\n",
    "reg_simple.head()"
   ]
  },
  {
   "cell_type": "code",
   "execution_count": 3,
   "metadata": {},
   "outputs": [
    {
     "data": {
      "image/png": "[encoded data removed]",
      "text/plain": [
       "<Figure size 432x288 with 1 Axes>"
      ]
     },
     "metadata": {
      "needs_background": "light"
     },
     "output_type": "display_data"
    }
   ],
   "source": [
    "#plot\n",
    "fig, ax = plt.subplots()\n",
    "\n",
    "ax.scatter(reg_simple[\"heure_rev\"], reg_simple[\"note\"], c = 'red', marker= '^')\n",
    "plt.show()"
   ]
  },
  {
   "cell_type": "code",
   "execution_count": 4,
   "metadata": {},
   "outputs": [
    {
     "data": {
      "text/plain": [
       "(27, 1)"
      ]
     },
     "execution_count": 4,
     "metadata": {},
     "output_type": "execute_result"
    }
   ],
   "source": [
    "xn= np.array(reg_simple[\"heure_rev\"])\n",
    "xn=xn.reshape(len(xn), 1)\n",
    "#x1 = []\n",
    "#for i in range(len(xn)):\n",
    "#    x1.append(1)\n",
    "x1 =np.ones(xn.shape)\n",
    "x1.shape"
   ]
  },
  {
   "cell_type": "code",
   "execution_count": 5,
   "metadata": {},
   "outputs": [
    {
     "data": {
      "text/plain": [
       "(27, 1)"
      ]
     },
     "execution_count": 5,
     "metadata": {},
     "output_type": "execute_result"
    }
   ],
   "source": [
    "xn.shape"
   ]
  },
  {
   "cell_type": "code",
   "execution_count": 6,
   "metadata": {},
   "outputs": [
    {
     "data": {
      "text/plain": [
       "array([[ 2.,  1.],\n",
       "       [ 3.,  1.],\n",
       "       [ 4.,  1.],\n",
       "       [ 5.,  1.],\n",
       "       [ 6.,  1.],\n",
       "       [ 7.,  1.],\n",
       "       [ 8.,  1.],\n",
       "       [ 9.,  1.],\n",
       "       [10.,  1.],\n",
       "       [11.,  1.],\n",
       "       [12.,  1.],\n",
       "       [13.,  1.],\n",
       "       [14.,  1.],\n",
       "       [15.,  1.],\n",
       "       [16.,  1.],\n",
       "       [17.,  1.],\n",
       "       [18.,  1.],\n",
       "       [19.,  1.],\n",
       "       [20.,  1.],\n",
       "       [21.,  1.],\n",
       "       [22.,  1.],\n",
       "       [23.,  1.],\n",
       "       [24.,  1.],\n",
       "       [25.,  1.],\n",
       "       [26.,  1.],\n",
       "       [29.,  1.],\n",
       "       [30.,  1.]])"
      ]
     },
     "execution_count": 6,
     "metadata": {},
     "output_type": "execute_result"
    }
   ],
   "source": [
    "#Création de la matrice X, composée de la feature xn (colonne heure_rev)\n",
    "X = np.hstack((xn, x1))\n",
    "X"
   ]
  },
  {
   "cell_type": "code",
   "execution_count": 7,
   "metadata": {},
   "outputs": [
    {
     "data": {
      "text/plain": [
       "array([[-0.87375621],\n",
       "       [-0.86902591]])"
      ]
     },
     "execution_count": 7,
     "metadata": {},
     "output_type": "execute_result"
    }
   ],
   "source": [
    "#Création du theta\n",
    "a = np.random.randint(0, 10)\n",
    "b = np.random.randint(0, 10)\n",
    "theta = np.hstack((a, b))\n",
    "theta=np.random.randn(2,1)\n",
    "theta"
   ]
  },
  {
   "cell_type": "markdown",
   "metadata": {},
   "source": [
    "### 3. Création du modèle"
   ]
  },
  {
   "cell_type": "code",
   "execution_count": 8,
   "metadata": {},
   "outputs": [],
   "source": [
    "def model(X, theta):\n",
    "    F = X.dot(theta)\n",
    "    return F"
   ]
  },
  {
   "cell_type": "code",
   "execution_count": 9,
   "metadata": {},
   "outputs": [
    {
     "data": {
      "text/plain": [
       "array([[ -2.61653832],\n",
       "       [ -3.49029453],\n",
       "       [ -4.36405074],\n",
       "       [ -5.23780694],\n",
       "       [ -6.11156315],\n",
       "       [ -6.98531936],\n",
       "       [ -7.85907557],\n",
       "       [ -8.73283177],\n",
       "       [ -9.60658798],\n",
       "       [-10.48034419],\n",
       "       [-11.3541004 ],\n",
       "       [-12.2278566 ],\n",
       "       [-13.10161281],\n",
       "       [-13.97536902],\n",
       "       [-14.84912522],\n",
       "       [-15.72288143],\n",
       "       [-16.59663764],\n",
       "       [-17.47039385],\n",
       "       [-18.34415005],\n",
       "       [-19.21790626],\n",
       "       [-20.09166247],\n",
       "       [-20.96541867],\n",
       "       [-21.83917488],\n",
       "       [-22.71293109],\n",
       "       [-23.5866873 ],\n",
       "       [-26.20795592],\n",
       "       [-27.08171212]])"
      ]
     },
     "execution_count": 9,
     "metadata": {},
     "output_type": "execute_result"
    }
   ],
   "source": [
    "y_predit = model(X, theta)\n",
    "y_predit"
   ]
  },
  {
   "cell_type": "code",
   "execution_count": 10,
   "metadata": {},
   "outputs": [
    {
     "data": {
      "image/png": "[encoded data removed]",
      "text/plain": [
       "<Figure size 432x288 with 1 Axes>"
      ]
     },
     "metadata": {
      "needs_background": "light"
     },
     "output_type": "display_data"
    }
   ],
   "source": [
    "plt.scatter(xn,reg_simple[\"note\"])\n",
    "plt.plot(xn,model(X, theta), 'g')\n",
    "plt.show()"
   ]
  },
  {
   "cell_type": "markdown",
   "metadata": {},
   "source": [
    "### 4. Fonction coût"
   ]
  },
  {
   "cell_type": "code",
   "execution_count": 11,
   "metadata": {},
   "outputs": [],
   "source": [
    "def cout(X, y, theta):\n",
    "    m = len(y)\n",
    "    resultat =  1/(2*m) * (np.sum((model(X, theta) - y)**2))\n",
    "    return resultat"
   ]
  },
  {
   "cell_type": "code",
   "execution_count": 12,
   "metadata": {},
   "outputs": [
    {
     "data": {
      "text/plain": [
       "2705.711515822234"
      ]
     },
     "execution_count": 12,
     "metadata": {},
     "output_type": "execute_result"
    }
   ],
   "source": [
    "y_obs = np.array(reg_simple['note'])\n",
    "y_obs = y_obs.reshape(len(y_obs), 1)\n",
    "y_obs\n",
    "cout(X, y_obs, theta)"
   ]
  },
  {
   "cell_type": "markdown",
   "metadata": {},
   "source": [
    "### 5. Fonction gradient"
   ]
  },
  {
   "cell_type": "code",
   "execution_count": 13,
   "metadata": {},
   "outputs": [],
   "source": [
    "def gradient(X, y, theta):\n",
    "    resultat = ((X.T).dot((model(X,theta)) - y))/(len(y))\n",
    "    return resultat"
   ]
  },
  {
   "cell_type": "code",
   "execution_count": 14,
   "metadata": {},
   "outputs": [
    {
     "data": {
      "text/plain": [
       "array([[-1259.21961623],\n",
       "       [  -65.14185142]])"
      ]
     },
     "execution_count": 14,
     "metadata": {},
     "output_type": "execute_result"
    }
   ],
   "source": [
    "gradient(X, y_obs, theta)"
   ]
  },
  {
   "cell_type": "markdown",
   "metadata": {},
   "source": [
    "### 6. Fonction gradient descendant"
   ]
  },
  {
   "cell_type": "code",
   "execution_count": 15,
   "metadata": {},
   "outputs": [
    {
     "data": {
      "text/plain": [
       "array([0., 0., 0., 0.])"
      ]
     },
     "execution_count": 15,
     "metadata": {},
     "output_type": "execute_result"
    }
   ],
   "source": [
    "cost_history = np.zeros(4) \n",
    "cost_history"
   ]
  },
  {
   "cell_type": "code",
   "execution_count": 16,
   "metadata": {},
   "outputs": [],
   "source": [
    "def descente_gradient(X, y, theta, alpha, n_iterations):\n",
    "    #création d'un tableau de stockage pour enregistrer l'évolution du coût\n",
    "    cout_evolution = np.zeros(n_iterations)\n",
    "    theta_evolution = []\n",
    "    \n",
    "    for i in range(0, n_iterations):\n",
    "        theta = theta - alpha * gradient(X, y, theta) #on calcule le nouveau theta (un vecteur de 2 lignes x 1 colonne)\n",
    "        cout_evolution[i] =  cout(X, y, theta) # on enregistre le coût pour chaque tour\n",
    "        theta_evolution.append(theta)\n",
    "    return theta, cout_evolution\n"
   ]
  },
  {
   "cell_type": "code",
   "execution_count": 17,
   "metadata": {},
   "outputs": [
    {
     "data": {
      "text/plain": [
       "(array([[ 3.39590617],\n",
       "        [-0.64184938]]),\n",
       " array([1350.25500053,  676.35257449,  341.3034645 ,  174.7245781 ,\n",
       "          91.90528587,   50.72937411,   30.25761158,   20.07948493,\n",
       "          15.01912181,   12.50319526,   11.25230519,   10.63036271,\n",
       "          10.32111881,   10.16734159,   10.09085892,   10.05280535,\n",
       "          10.03385789,   10.02440957,   10.01968401,   10.01730652,\n",
       "          10.01609644,   10.01546679,   10.01512573,   10.01492816,\n",
       "          10.01480194,   10.01471121,   10.01463814,   10.01457386,\n",
       "          10.01451395,   10.01445624]))"
      ]
     },
     "execution_count": 17,
     "metadata": {},
     "output_type": "execute_result"
    }
   ],
   "source": [
    "alpha = 0.001\n",
    "n_iteration = 30\n",
    "descente_gradient(X, y_obs, theta, alpha, n_iteration)"
   ]
  },
  {
   "cell_type": "markdown",
   "metadata": {},
   "source": [
    "### 7. Evaluer votre modèle en utilisant le coefficient de détermination"
   ]
  },
  {
   "cell_type": "code",
   "execution_count": 18,
   "metadata": {},
   "outputs": [],
   "source": [
    "#Fontion pour calculer le coefficient de détermination\n",
    "def coeff_determination(X, y, theta):\n",
    "    i = y - model(X, theta)\n",
    "    j = y - np.mean(y)\n",
    "    r2 = 1-(np.sum(i**2)/np.sum(j**2))\n",
    "    return r2 "
   ]
  },
  {
   "cell_type": "code",
   "execution_count": 19,
   "metadata": {},
   "outputs": [
    {
     "data": {
      "text/plain": [
       "0.9729784820901877"
      ]
     },
     "execution_count": 19,
     "metadata": {},
     "output_type": "execute_result"
    }
   ],
   "source": [
    "new_theta, cout_evolution = descente_gradient(X, y_obs, theta, alpha, n_iteration)\n",
    "coeff_determination(X, y_obs, new_theta)"
   ]
  },
  {
   "cell_type": "code",
   "execution_count": 20,
   "metadata": {},
   "outputs": [
    {
     "data": {
      "image/png": "[encoded data removed]",
      "text/plain": [
       "<Figure size 432x288 with 1 Axes>"
      ]
     },
     "metadata": {
      "needs_background": "light"
     },
     "output_type": "display_data"
    }
   ],
   "source": [
    "#Nouveau y_predits avec les nouveaux paramètres a & b\n",
    "y_predits = model(X, new_theta)\n",
    "\n",
    "#Plot de valeurs prédites avec valeurs observées\n",
    "plt.scatter(y_obs, y_predits)\n",
    "plt.show()"
   ]
  },
  {
   "cell_type": "code",
   "execution_count": 21,
   "metadata": {
    "scrolled": true
   },
   "outputs": [
    {
     "data": {
      "image/png": "[encoded data removed]",
      "text/plain": [
       "<Figure size 432x288 with 1 Axes>"
      ]
     },
     "metadata": {
      "needs_background": "light"
     },
     "output_type": "display_data"
    }
   ],
   "source": [
    "#plt.scatter(xn, y_obs)\n",
    "plt.scatter(xn, y_obs)\n",
    "plt.plot(xn,y_predits, c = 'salmon')\n",
    "plt.title('Regression linéaire')\n",
    "plt.show()"
   ]
  },
  {
   "cell_type": "markdown",
   "metadata": {},
   "source": [
    "### 8. Tracer la courbe de la fonction du coût selon les itérations"
   ]
  },
  {
   "cell_type": "code",
   "execution_count": 22,
   "metadata": {},
   "outputs": [
    {
     "data": {
      "image/png": "[encoded data removed]",
      "text/plain": [
       "<Figure size 432x288 with 1 Axes>"
      ]
     },
     "metadata": {
      "needs_background": "light"
     },
     "output_type": "display_data"
    }
   ],
   "source": [
    "# Définition des variables\n",
    "n = np.arange(30)\n",
    "#cout_evolution = descente_gradient(X, y_obs, theta, 0.01, 30)[1]\n",
    "\n",
    "# Plot\n",
    "plt.scatter(n, cout_evolution)\n",
    "plt.show()"
   ]
  },
  {
   "cell_type": "markdown",
   "metadata": {},
   "source": [
    "#### Calcul de l'erreur"
   ]
  },
  {
   "cell_type": "code",
   "execution_count": 23,
   "metadata": {},
   "outputs": [
    {
     "data": {
      "text/plain": [
       "10.0144562431873"
      ]
     },
     "execution_count": 23,
     "metadata": {},
     "output_type": "execute_result"
    }
   ],
   "source": [
    "#mse_lin_manuel = mean_squared_error(y_obs, y_predits)\n",
    "#mse_lin_manuel\n",
    "####\n",
    "mse_lin_manuel = cout(X, y_obs, new_theta)\n",
    "mse_lin_manuel"
   ]
  },
  {
   "cell_type": "markdown",
   "metadata": {},
   "source": [
    "## II. Régression linéaire multiple"
   ]
  },
  {
   "cell_type": "code",
   "execution_count": 24,
   "metadata": {},
   "outputs": [
    {
     "data": {
      "text/html": [
       "<div>\n",
       "<style scoped>\n",
       "    .dataframe tbody tr th:only-of-type {\n",
       "        vertical-align: middle;\n",
       "    }\n",
       "\n",
       "    .dataframe tbody tr th {\n",
       "        vertical-align: top;\n",
       "    }\n",
       "\n",
       "    .dataframe thead th {\n",
       "        text-align: right;\n",
       "    }\n",
       "</style>\n",
       "<table border=\"1\" class=\"dataframe\">\n",
       "  <thead>\n",
       "    <tr style=\"text-align: right;\">\n",
       "      <th></th>\n",
       "      <th>CRIM</th>\n",
       "      <th>ZN</th>\n",
       "      <th>INDUS</th>\n",
       "      <th>CHAS</th>\n",
       "      <th>NOX</th>\n",
       "      <th>RM</th>\n",
       "      <th>AGE</th>\n",
       "      <th>DIS</th>\n",
       "      <th>RAD</th>\n",
       "      <th>TAX</th>\n",
       "      <th>PTRATIO</th>\n",
       "      <th>B</th>\n",
       "      <th>LSTAT</th>\n",
       "      <th>MEDV</th>\n",
       "    </tr>\n",
       "  </thead>\n",
       "  <tbody>\n",
       "    <tr>\n",
       "      <th>0</th>\n",
       "      <td>0.00632</td>\n",
       "      <td>18.0</td>\n",
       "      <td>2.31</td>\n",
       "      <td>0</td>\n",
       "      <td>0.538</td>\n",
       "      <td>6.575</td>\n",
       "      <td>65.2</td>\n",
       "      <td>4.0900</td>\n",
       "      <td>1</td>\n",
       "      <td>296</td>\n",
       "      <td>15.3</td>\n",
       "      <td>396.90</td>\n",
       "      <td>4.98</td>\n",
       "      <td>24.0</td>\n",
       "    </tr>\n",
       "    <tr>\n",
       "      <th>1</th>\n",
       "      <td>0.02731</td>\n",
       "      <td>0.0</td>\n",
       "      <td>7.07</td>\n",
       "      <td>0</td>\n",
       "      <td>0.469</td>\n",
       "      <td>6.421</td>\n",
       "      <td>78.9</td>\n",
       "      <td>4.9671</td>\n",
       "      <td>2</td>\n",
       "      <td>242</td>\n",
       "      <td>17.8</td>\n",
       "      <td>396.90</td>\n",
       "      <td>9.14</td>\n",
       "      <td>21.6</td>\n",
       "    </tr>\n",
       "    <tr>\n",
       "      <th>2</th>\n",
       "      <td>0.02729</td>\n",
       "      <td>0.0</td>\n",
       "      <td>7.07</td>\n",
       "      <td>0</td>\n",
       "      <td>0.469</td>\n",
       "      <td>7.185</td>\n",
       "      <td>61.1</td>\n",
       "      <td>4.9671</td>\n",
       "      <td>2</td>\n",
       "      <td>242</td>\n",
       "      <td>17.8</td>\n",
       "      <td>392.83</td>\n",
       "      <td>4.03</td>\n",
       "      <td>34.7</td>\n",
       "    </tr>\n",
       "    <tr>\n",
       "      <th>3</th>\n",
       "      <td>0.03237</td>\n",
       "      <td>0.0</td>\n",
       "      <td>2.18</td>\n",
       "      <td>0</td>\n",
       "      <td>0.458</td>\n",
       "      <td>6.998</td>\n",
       "      <td>45.8</td>\n",
       "      <td>6.0622</td>\n",
       "      <td>3</td>\n",
       "      <td>222</td>\n",
       "      <td>18.7</td>\n",
       "      <td>394.63</td>\n",
       "      <td>2.94</td>\n",
       "      <td>33.4</td>\n",
       "    </tr>\n",
       "    <tr>\n",
       "      <th>4</th>\n",
       "      <td>0.06905</td>\n",
       "      <td>0.0</td>\n",
       "      <td>2.18</td>\n",
       "      <td>0</td>\n",
       "      <td>0.458</td>\n",
       "      <td>7.147</td>\n",
       "      <td>54.2</td>\n",
       "      <td>6.0622</td>\n",
       "      <td>3</td>\n",
       "      <td>222</td>\n",
       "      <td>18.7</td>\n",
       "      <td>396.90</td>\n",
       "      <td>5.33</td>\n",
       "      <td>36.2</td>\n",
       "    </tr>\n",
       "  </tbody>\n",
       "</table>\n",
       "</div>"
      ],
      "text/plain": [
       "      CRIM    ZN  INDUS  CHAS    NOX     RM   AGE     DIS  RAD  TAX  PTRATIO  \\\n",
       "0  0.00632  18.0   2.31     0  0.538  6.575  65.2  4.0900    1  296     15.3   \n",
       "1  0.02731   0.0   7.07     0  0.469  6.421  78.9  4.9671    2  242     17.8   \n",
       "2  0.02729   0.0   7.07     0  0.469  7.185  61.1  4.9671    2  242     17.8   \n",
       "3  0.03237   0.0   2.18     0  0.458  6.998  45.8  6.0622    3  222     18.7   \n",
       "4  0.06905   0.0   2.18     0  0.458  7.147  54.2  6.0622    3  222     18.7   \n",
       "\n",
       "        B  LSTAT  MEDV  \n",
       "0  396.90   4.98  24.0  \n",
       "1  396.90   9.14  21.6  \n",
       "2  392.83   4.03  34.7  \n",
       "3  394.63   2.94  33.4  \n",
       "4  396.90   5.33  36.2  "
      ]
     },
     "execution_count": 24,
     "metadata": {},
     "output_type": "execute_result"
    }
   ],
   "source": [
    "path2 = \"boston_house_prices.csv\"\n",
    "boston_prices = pd.read_csv(path2)\n",
    "boston_prices.head()"
   ]
  },
  {
   "cell_type": "code",
   "execution_count": 25,
   "metadata": {},
   "outputs": [
    {
     "data": {
      "text/plain": [
       "(506, 14)"
      ]
     },
     "execution_count": 25,
     "metadata": {},
     "output_type": "execute_result"
    }
   ],
   "source": [
    "boston_prices.shape"
   ]
  },
  {
   "cell_type": "code",
   "execution_count": 26,
   "metadata": {},
   "outputs": [
    {
     "data": {
      "text/plain": [
       "MEDV       1.000000\n",
       "RM         0.695360\n",
       "ZN         0.360445\n",
       "B          0.333461\n",
       "DIS        0.249929\n",
       "CHAS       0.175260\n",
       "AGE       -0.376955\n",
       "RAD       -0.381626\n",
       "CRIM      -0.388305\n",
       "NOX       -0.427321\n",
       "TAX       -0.468536\n",
       "INDUS     -0.483725\n",
       "PTRATIO   -0.507787\n",
       "LSTAT     -0.737663\n",
       "dtype: float64"
      ]
     },
     "execution_count": 26,
     "metadata": {},
     "output_type": "execute_result"
    }
   ],
   "source": [
    "boston_prices.corrwith(boston_prices['MEDV'], method = 'pearson').sort_values(ascending = False)"
   ]
  },
  {
   "cell_type": "code",
   "execution_count": 27,
   "metadata": {},
   "outputs": [
    {
     "data": {
      "text/plain": [
       "Index(['CRIM', 'ZN', 'INDUS', 'CHAS', 'NOX', 'RM', 'AGE', 'DIS', 'RAD', 'TAX',\n",
       "       'PTRATIO', 'B', 'LSTAT'],\n",
       "      dtype='object')"
      ]
     },
     "execution_count": 27,
     "metadata": {},
     "output_type": "execute_result"
    }
   ],
   "source": [
    "boston_prices.columns[:-1]"
   ]
  },
  {
   "cell_type": "code",
   "execution_count": 28,
   "metadata": {},
   "outputs": [
    {
     "data": {
      "text/plain": [
       "(506,)"
      ]
     },
     "execution_count": 28,
     "metadata": {},
     "output_type": "execute_result"
    }
   ],
   "source": [
    "#Définition des features\n",
    "features = boston_prices[['RM', 'LSTAT']]   # ==> choix des features RM et LSTAT car corrélation forte avec la target MDEV \n",
    "ones = np.ones(features.shape[0]).reshape(len(features), 1)\n",
    "X = np.hstack((features, ones))\n",
    "X.shape\n",
    "\n",
    "#Défintion de la target\n",
    "y_obs = boston_prices['MEDV']\n",
    "y_obs.shape"
   ]
  },
  {
   "cell_type": "code",
   "execution_count": 29,
   "metadata": {},
   "outputs": [
    {
     "data": {
      "text/plain": [
       "array([2, 7, 2])"
      ]
     },
     "execution_count": 29,
     "metadata": {},
     "output_type": "execute_result"
    }
   ],
   "source": [
    "#Définition du theta\n",
    "a = np.random.randint(0, 10)\n",
    "b = np.random.randint(0, 10)\n",
    "c = np.random.randint(0, 10)\n",
    "theta = np.hstack((a,b,c))\n",
    "theta"
   ]
  },
  {
   "cell_type": "markdown",
   "metadata": {},
   "source": [
    "### 1. Calcul du modèle"
   ]
  },
  {
   "cell_type": "code",
   "execution_count": 30,
   "metadata": {},
   "outputs": [
    {
     "data": {
      "text/plain": [
       "array([ 50.01 ,  78.822,  44.58 ,  36.576,  53.604,  51.33 , 101.034,\n",
       "       148.394, 222.772, 133.708, 157.904, 106.908, 123.748,  71.718,\n",
       "        86.012,  72.958,  59.93 , 116.67 ,  94.742,  92.414, 160.28 ,\n",
       "       110.74 , 145.324, 152.786, 127.948, 128.768, 117.296, 135.054,\n",
       "       104.59 ,  99.208, 171.626, 105.424, 207.87 , 141.852, 156.572,\n",
       "        81.626,  93.552,  75.09 ,  84.842,  45.43 ,  29.908,  49.42 ,\n",
       "        55.008,  66.502,  80.988,  84.834, 112.622, 145.66 , 228.468,\n",
       "       126.604, 108.076,  80.24 ,  51.982,  73.006, 117.376,  50.168,\n",
       "        55.156,  43.282,  62.31 ,  78.394, 105.532, 115.012,  62.022,\n",
       "        82.024,  72.558,  47.27 ,  85.254,  70.456, 104.818,  75.3  ,\n",
       "        61.874,  83.082,  52.77 ,  67.27 ,  62.006,  77.152,  98.348,\n",
       "        86.17 , 100.844,  77.448,  52.484,  65.778,  61.644,  66.904,\n",
       "        82.118,  60.97 , 104.05 ,  73.322,  54.514,  56.058,  76.504,\n",
       "        72.21 ,  72.004,  57.892,  88.628,  61.8  ,  93.706,  47.608,\n",
       "        42.63 ,  60.162,  81.394,  69.252,  89.22 , 108.354, 100.644,\n",
       "       128.992, 144.292, 112.884, 100.838, 123.308, 105.39 ,  86.55 ,\n",
       "       127.296, 133.814,  87.658, 124.176,  98.632,  86.142, 121.334,\n",
       "       108.732, 114.33 , 113.898, 139.432, 191.582, 136.818, 117.642,\n",
       "       204.046, 133.716, 122.592, 141.654, 103.116, 100.472,  92.584,\n",
       "       118.854, 134.684, 133.39 , 132.184, 117.038, 162.954, 143.522,\n",
       "       183.468, 252.908, 200.546, 197.876, 216.836, 208.86 , 129.806,\n",
       "       218.562, 210.612, 163.344, 112.944, 105.768,  96.864, 123.948,\n",
       "       120.098, 119.444, 125.524,  48.016,  59.142,  66.75 ,  53.   ,\n",
       "        29.088,  31.044,  41.99 ,  95.188,  82.872,  43.758,  98.734,\n",
       "        92.338,  94.044, 114.76 ,  97.97 , 115.974,  78.112,  81.198,\n",
       "        52.402,  84.81 ,  58.66 ,  64.16 ,  51.24 ,  70.45 ,  80.438,\n",
       "        50.05 ,  54.886, 111.068, 106.356,  48.812,  62.324,  47.032,\n",
       "        54.1  ,  51.602,  48.308,  36.446,  50.81 ,  45.868,  38.54 ,\n",
       "        45.134,  76.484,  62.888,  47.87 ,  47.42 ,  66.334,  38.99 ,\n",
       "        44.376,  38.228,  89.872,  91.442, 139.986, 116.748, 174.318,\n",
       "       134.81 , 180.668, 125.824,  80.41 , 219.674,  80.654, 108.346,\n",
       "        83.114, 139.342,  88.246,  83.872, 164.548,  85.268,  68.436,\n",
       "        47.512,  51.86 ,  39.99 ,  60.846,  44.812,  41.424,  95.512,\n",
       "        53.574,  35.964,  46.144,  71.802,  90.332,  82.042,  49.826,\n",
       "        59.482,  66.802,  95.454, 100.99 ,  93.256,  51.116, 100.686,\n",
       "       142.43 ,  78.336,  85.502,  81.506,  61.356,  56.274,  40.006,\n",
       "        40.624,  43.298,  60.206,  78.502,  38.678,  55.248,  71.196,\n",
       "        63.984,  83.536,  67.86 ,  60.166,  95.404,  73.112,  86.27 ,\n",
       "       119.558,  70.674,  39.06 , 109.39 , 104.712,  60.61 ,  69.186,\n",
       "        63.442,  40.226,  36.568,  58.884,  44.772,  65.294,  49.574,\n",
       "        43.96 ,  48.066,  38.36 ,  39.966,  71.126,  72.516, 104.97 ,\n",
       "        64.398,  67.83 ,  81.7  ,  39.032,  41.216,  48.16 ,  74.314,\n",
       "        86.818,  59.246,  66.828, 124.46 ,  49.48 ,  49.262,  58.232,\n",
       "        81.68 ,  75.68 ,  49.984,  64.982,  77.742,  62.13 ,  68.408,\n",
       "        47.05 ,  83.734, 100.426,  56.104,  96.086,  69.832,  80.094,\n",
       "        93.91 , 142.138, 125.144,  87.284, 103.336,  65.252,  62.842,\n",
       "        67.982,  95.596,  57.67 ,  50.422,  57.674, 103.696,  83.526,\n",
       "        66.046,  77.918, 100.422,  68.872,  54.392,  61.87 ,  70.144,\n",
       "        82.338,  87.71 ,  73.688,  82.15 ,  78.966,  54.912,  75.63 ,\n",
       "        65.652,  48.018,  87.738, 102.486,  59.552,  57.2  ,  57.108,\n",
       "        56.84 ,  53.588,  68.298,  46.956,  69.676,  52.862, 137.624,\n",
       "       107.68 ,  94.614, 102.914,  69.326, 113.832,  84.054, 116.086,\n",
       "        56.59 ,  58.962, 109.926, 103.036,  34.76 ,  41.476,  36.752,\n",
       "        81.142,  75.91 , 255.202, 276.066, 110.706, 177.978, 164.268,\n",
       "       180.59 , 166.906, 136.406, 162.65 , 178.272, 184.96 , 225.146,\n",
       "       228.224, 209.264, 235.93 , 226.1  , 158.73 , 133.196, 145.422,\n",
       "       191.832, 120.576, 128.224, 134.782, 150.4  , 152.934, 227.036,\n",
       "       223.494, 201.364, 156.926, 156.978, 151.088, 204.722, 174.226,\n",
       "       173.656,  98.126, 198.034, 154.164,  84.284, 163.854, 251.846,\n",
       "       152.87 , 269.898, 218.218, 196.094, 199.088, 158.254, 174.828,\n",
       "       119.962, 123.912, 111.996, 177.236, 133.25 , 184.522, 123.504,\n",
       "       116.044, 165.026, 183.32 , 138.176, 153.496,  99.06 , 128.412,\n",
       "       120.606, 178.148, 141.272, 199.454, 252.01 , 173.414, 168.406,\n",
       "       151.452, 130.568, 146.92 , 180.238, 182.778, 139.212, 129.582,\n",
       "       141.28 , 150.004, 137.578, 139.42 , 135.484, 133.966, 146.426,\n",
       "       141.96 , 147.022, 132.452, 128.212, 117.062, 130.342, 117.302,\n",
       "       112.564,  87.056, 106.958, 112.428, 133.954, 163.246, 140.762,\n",
       "       116.746, 128.364, 104.548, 115.394,  97.58 , 139.834, 183.024,\n",
       "       145.728, 186.978, 140.58 , 106.228,  89.664,  69.68 ,  65.192,\n",
       "        86.464, 107.122,  88.684, 119.088,  93.96 , 139.328, 180.618,\n",
       "       219.946, 140.456, 107.416,  97.484, 108.982, 136.54 , 160.76 ,\n",
       "       112.288, 104.478, 118.838, 114.364,  82.876,  77.8  ,  55.432,\n",
       "        60.948,  69.22 ])"
      ]
     },
     "execution_count": 30,
     "metadata": {},
     "output_type": "execute_result"
    }
   ],
   "source": [
    "y_predicts = model(X, theta)\n",
    "y_predicts"
   ]
  },
  {
   "cell_type": "markdown",
   "metadata": {},
   "source": [
    "### 2. Calcul de la fonction coût"
   ]
  },
  {
   "cell_type": "code",
   "execution_count": 31,
   "metadata": {},
   "outputs": [
    {
     "data": {
      "text/plain": [
       "4825.377092735177"
      ]
     },
     "execution_count": 31,
     "metadata": {},
     "output_type": "execute_result"
    }
   ],
   "source": [
    "cout_reg_mult = cout(X, y_obs, theta)\n",
    "cout_reg_mult"
   ]
  },
  {
   "cell_type": "markdown",
   "metadata": {},
   "source": [
    "### 3. Calcul du gradient"
   ]
  },
  {
   "cell_type": "code",
   "execution_count": 32,
   "metadata": {},
   "outputs": [
    {
     "data": {
      "text/plain": [
       "array([ 481.57645264, 1418.39925917,   80.60790514])"
      ]
     },
     "execution_count": 32,
     "metadata": {},
     "output_type": "execute_result"
    }
   ],
   "source": [
    "gradient_reg_mult = gradient(X, y_obs, theta)\n",
    "gradient_reg_mult"
   ]
  },
  {
   "cell_type": "markdown",
   "metadata": {},
   "source": [
    "### 4. Calcul du gradient descendant"
   ]
  },
  {
   "cell_type": "code",
   "execution_count": 33,
   "metadata": {},
   "outputs": [],
   "source": [
    "alpha = 0.001\n",
    "n_iteration = 30\n",
    "theta_final, cout_evolution_reg_m = descente_gradient(X, y_obs, theta, alpha, n_iteration)"
   ]
  },
  {
   "cell_type": "code",
   "execution_count": 34,
   "metadata": {},
   "outputs": [
    {
     "data": {
      "text/plain": [
       "array([12.64981968, 15.27258119, 12.70503563, 11.75909415, 13.53617094,\n",
       "       12.63950626, 17.01998853, 21.72194033, 28.35690255, 20.15192527,\n",
       "       22.82961192, 17.58155829, 19.08614055, 14.14355299, 15.65603986,\n",
       "       14.15392786, 12.99765328, 18.50157576, 15.88953151, 15.92216615,\n",
       "       22.29462022, 17.90814173, 21.39858216, 21.80439278, 19.52280473,\n",
       "       19.29419763, 18.39431206, 20.32192763, 17.81850896, 17.47068084,\n",
       "       23.52006316, 17.49855493, 27.22675609, 20.64785812, 22.43584532,\n",
       "       15.08043648, 16.13933718, 14.37391593, 15.42066068, 12.22866403,\n",
       "       11.14298664, 12.77756754, 12.74604567, 13.89017965, 15.14776779,\n",
       "       15.151274  , 17.91966998, 21.32493309, 28.68477215, 19.08910574,\n",
       "       17.65027781, 15.11940425, 12.778767  , 14.3136574 , 18.47293677,\n",
       "       13.30249603, 12.96267568, 12.23130219, 13.42496318, 14.76421254,\n",
       "       17.19585981, 18.31956559, 13.69144612, 15.90277829, 15.31670786,\n",
       "       12.11698109, 15.29094297, 13.95513836, 16.98821645, 14.42719826,\n",
       "       13.64033776, 15.24682069, 12.43263877, 13.99613194, 13.5168204 ,\n",
       "       14.98442997, 17.01444114, 15.71283827, 17.20981661, 14.62318607,\n",
       "       13.03130302, 14.20651552, 13.50946668, 13.88718922, 15.55901277,\n",
       "       13.7549398 , 17.31262045, 14.46035855, 13.49119159, 13.70764821,\n",
       "       15.04607123, 14.62212927, 14.63733163, 13.06288196, 16.05211321,\n",
       "       13.82996172, 16.45869422, 13.83210386, 13.11827569, 14.42073125,\n",
       "       15.80913998, 14.69354293, 16.25654666, 17.84156544, 17.12912   ,\n",
       "       19.554072  , 21.00999531, 18.26737518, 17.43813289, 19.36544777,\n",
       "       17.6116261 , 16.29320768, 19.44975265, 20.2453441 , 15.96363929,\n",
       "       19.1641529 , 16.94430816, 15.59759315, 18.83811047, 17.4938756 ,\n",
       "       18.16323471, 18.24846799, 20.66124866, 25.57280379, 20.33252198,\n",
       "       18.59118768, 26.54057705, 19.85853834, 19.4877097 , 20.56829952,\n",
       "       17.64188266, 17.26298151, 16.54856623, 18.55252609, 20.01208291,\n",
       "       20.43444241, 19.94684874, 18.97580412, 22.82300883, 21.23394831,\n",
       "       25.09394108, 30.67368768, 26.00565119, 25.8105819 , 27.09796789,\n",
       "       27.49213175, 19.42136387, 27.28556604, 26.76760278, 22.61456437,\n",
       "       18.26841114, 16.89978862, 15.67347324, 18.93510684, 18.96242894,\n",
       "       18.92134318, 18.67320666, 12.80629322, 13.04584255, 14.19681446,\n",
       "       12.6297185 , 11.50401106, 11.98800194, 13.58172095, 16.30882925,\n",
       "       15.35906002, 13.32975668, 16.67130334, 16.47479974, 16.71722646,\n",
       "       18.20928074, 16.60073139, 18.03933984, 15.19963116, 14.9693198 ,\n",
       "       12.85222732, 15.46866119, 13.23504291, 14.27899586, 13.15106945,\n",
       "       15.73935817, 15.16585851, 13.20224915, 13.10698339, 17.59821032,\n",
       "       17.66471967, 13.72268157, 14.02880719, 12.3457056 , 13.61977129,\n",
       "       13.15842317, 12.64139929, 11.91685386, 12.93950177, 12.2792621 ,\n",
       "       12.77730636, 12.85474257, 15.69677774, 14.54835181, 12.82253153,\n",
       "       12.93062705, 13.82769119, 12.56989784, 13.31725394, 12.89771587,\n",
       "       15.83303379, 16.39532783, 20.54612096, 18.57906245, 23.42971158,\n",
       "       20.21619482, 24.09660592, 19.2080557 , 15.38165669, 27.85209059,\n",
       "       15.22255486, 17.60528309, 15.89401112, 20.64314257, 16.13269239,\n",
       "       16.259108  , 23.26654167, 16.32514328, 14.46096542, 14.00920972,\n",
       "       14.8611299 , 13.07269386, 14.24715683, 13.20119235, 11.80307377,\n",
       "       16.46008243, 13.78393545, 12.96676681, 13.85979359, 14.88654032,\n",
       "       16.06167161, 15.78060305, 13.37273107, 13.47103445, 14.29261136,\n",
       "       17.32089708, 17.09426531, 16.59989407, 12.58394792, 16.59024459,\n",
       "       20.61259519, 14.92983625, 15.72999511, 15.5418252 , 13.87526262,\n",
       "       13.16846662, 11.55899874, 12.10926962, 13.59768381, 13.1878029 ,\n",
       "       14.72635205, 12.39236838, 15.16680558, 15.40243607, 14.24505969,\n",
       "       16.46517439, 15.25876595, 15.34992851, 17.72280314, 15.4664148 ,\n",
       "       15.17386079, 19.74760931, 16.26406718, 12.44420652, 17.73586336,\n",
       "       17.22584092, 13.35147213, 14.45736264, 14.99599772, 11.88280576,\n",
       "       11.62212479, 14.15700389, 12.38392823, 14.03043025, 12.83208993,\n",
       "       13.24606964, 12.83474346, 12.54246819, 12.95972476, 15.16397976,\n",
       "       14.69693171, 17.60437444, 13.68612371, 14.11614858, 15.68531644,\n",
       "       11.86550077, 12.3468074 , 12.52408226, 14.56135057, 15.65119701,\n",
       "       13.63468832, 14.24119683, 19.06091559, 12.38135153, 13.0187081 ,\n",
       "       13.71980417, 15.70704068, 15.040672  , 13.03227752, 14.71361337,\n",
       "       15.35324706, 14.61361121, 14.6767636 , 12.42215635, 15.31987277,\n",
       "       15.97884274, 12.80690118, 16.55496081, 14.26216605, 15.53289452,\n",
       "       16.04510189, 20.87680212, 19.11907149, 16.04877051, 17.3367074 ,\n",
       "       13.97342772, 13.69456934, 13.87159399, 16.20993985, 13.23450189,\n",
       "       12.5532063 , 13.13746492, 17.3429231 , 15.2015198 , 13.96175682,\n",
       "       14.9237226 , 16.67175766, 13.94765186, 12.82589508, 13.53874875,\n",
       "       14.07554788, 15.08831585, 15.6290799 , 14.43688396, 15.17996895,\n",
       "       14.85795291, 13.75075978, 15.07843042, 14.26723826, 12.74122257,\n",
       "       15.74432502, 17.0516794 , 13.51086478, 13.39742598, 13.67612086,\n",
       "       13.22568863, 12.99739759, 13.7534605 , 12.50108723, 13.67683636,\n",
       "       12.31946554, 20.7249311 , 18.0208299 , 16.51188984, 17.2952134 ,\n",
       "       14.33839731, 18.47574832, 14.773659  , 18.26859001, 15.36763625,\n",
       "       10.65922291, 16.88219831, 15.17974618,  9.66644308, 11.931975  ,\n",
       "       11.79303032, 15.30160317, 14.47635214, 30.78722854, 32.06555654,\n",
       "       19.17986445, 25.01570376, 23.83551563, 25.01224913, 23.54891614,\n",
       "       21.32295227, 23.44453534, 23.99123525, 24.61872286, 27.39041654,\n",
       "       28.54593501, 26.13300179, 29.02437412, 27.96635134, 21.97543658,\n",
       "       19.82749055, 21.3219273 , 24.82123805, 19.06889153, 19.51432837,\n",
       "       20.69682764, 22.13506846, 21.75618816, 28.59825271, 28.6353066 ,\n",
       "       26.63661868, 22.70348164, 22.76617421, 21.20237047, 26.52797225,\n",
       "       23.74151078, 22.22542223, 16.35845282, 25.9666933 , 22.91952454,\n",
       "       15.16936472, 23.66615635, 30.20182203, 21.19010257, 31.83326435,\n",
       "       28.67883629, 26.88218837, 25.77192031, 22.46598995, 24.87855553,\n",
       "       19.21608761, 19.21256165, 17.7289947 , 24.42798064, 19.69269515,\n",
       "       24.93227242, 19.01351207, 18.64194378, 23.33989993, 25.27456303,\n",
       "       20.90660436, 22.83736838, 17.22094649, 20.05165754, 19.08596167,\n",
       "       25.01312157, 21.31096531, 26.6091583 , 31.45379036, 23.61052229,\n",
       "       23.30998027, 22.23709643, 20.05357142, 21.87635734, 24.48091618,\n",
       "       25.2972058 , 20.99952826, 19.98909775, 21.05068271, 22.10836858,\n",
       "       21.22842616, 21.31650721, 20.59970397, 21.49048437, 22.05872965,\n",
       "       21.43760589, 21.40472653, 19.96692468, 19.90475227, 18.6253126 ,\n",
       "       20.48774997, 18.92739537, 18.41633699, 16.15076776, 17.77553017,\n",
       "       17.87549173, 20.12637877, 22.9891582 , 20.75593828, 18.24688114,\n",
       "       19.792615  , 17.56288045, 18.80176002, 17.60367978, 20.19479761,\n",
       "       25.03992899, 21.76087737, 24.60832275, 20.98342273, 17.72430439,\n",
       "       16.14503711, 14.70534662, 14.56826972, 15.38356069, 17.47159498,\n",
       "       16.1170818 , 18.85119484, 16.23907377, 20.17171588, 24.10126002,\n",
       "       27.57650357, 20.78044883, 17.60577802, 16.39040378, 17.70233543,\n",
       "       20.10813002, 22.17049051, 17.89514406, 17.35752847, 18.3116917 ,\n",
       "       18.31499819, 15.82479666, 14.88968438, 13.55007727, 13.90794335,\n",
       "       13.98014384])"
      ]
     },
     "execution_count": 34,
     "metadata": {},
     "output_type": "execute_result"
    }
   ],
   "source": [
    "#Calcul du nouveau y\n",
    "y_predit = model(X, theta_final)\n",
    "y_predit"
   ]
  },
  {
   "cell_type": "code",
   "execution_count": 35,
   "metadata": {},
   "outputs": [
    {
     "data": {
      "image/png": "[encoded data removed]",
      "text/plain": [
       "<Figure size 432x288 with 1 Axes>"
      ]
     },
     "metadata": {
      "needs_background": "light"
     },
     "output_type": "display_data"
    }
   ],
   "source": [
    "#Représentation graphique\n",
    "fig= plt.figure()\n",
    "ax=fig.add_subplot(111,projection='3d')\n",
    "#plt.xlabel(\"X_train[:,0]\")\n",
    "#plt.ylabel(\"y_train\")\n",
    "ax.scatter(X[:, 0],X[:, 1],y_obs)\n",
    "ax.scatter(X[:, 0],X[:, 1],y_predit)\n",
    "plt.title('Regression multiple')\n",
    "plt.show()"
   ]
  },
  {
   "cell_type": "markdown",
   "metadata": {},
   "source": [
    "### 5. Fonction de cout par rapport aux itérations"
   ]
  },
  {
   "cell_type": "code",
   "execution_count": 36,
   "metadata": {},
   "outputs": [
    {
     "data": {
      "image/png": "[encoded data removed]",
      "text/plain": [
       "<Figure size 432x288 with 1 Axes>"
      ]
     },
     "metadata": {
      "needs_background": "light"
     },
     "output_type": "display_data"
    }
   ],
   "source": [
    "n =np.arange(n_iteration)\n",
    "plt.scatter(n, cout_evolution_reg_m)\n",
    "plt.show()"
   ]
  },
  {
   "cell_type": "code",
   "execution_count": 37,
   "metadata": {},
   "outputs": [
    {
     "data": {
      "text/plain": [
       "-1.1765114943307649"
      ]
     },
     "execution_count": 37,
     "metadata": {},
     "output_type": "execute_result"
    }
   ],
   "source": [
    "#Calcul du coefficience de détermin\n",
    "R2 = coeff_determination(X, y_obs, theta_final)\n",
    "R2"
   ]
  },
  {
   "cell_type": "markdown",
   "metadata": {},
   "source": [
    "### 6. Calcul de l'erreur"
   ]
  },
  {
   "cell_type": "code",
   "execution_count": 38,
   "metadata": {},
   "outputs": [
    {
     "data": {
      "text/plain": [
       "183.74013432019575"
      ]
     },
     "execution_count": 38,
     "metadata": {},
     "output_type": "execute_result"
    }
   ],
   "source": [
    "from sklearn.metrics import mean_squared_error\n",
    "\n",
    "mse_mult_manuel = mean_squared_error(y_obs, y_predit)\n",
    "mse_mult_manuel"
   ]
  },
  {
   "cell_type": "code",
   "execution_count": 39,
   "metadata": {},
   "outputs": [
    {
     "data": {
      "text/plain": [
       "91.87006716009788"
      ]
     },
     "execution_count": 39,
     "metadata": {},
     "output_type": "execute_result"
    }
   ],
   "source": [
    "cout_evolution_reg_m[-1]"
   ]
  },
  {
   "cell_type": "code",
   "execution_count": 40,
   "metadata": {},
   "outputs": [
    {
     "data": {
      "text/plain": [
       "91.87006716009788"
      ]
     },
     "execution_count": 40,
     "metadata": {},
     "output_type": "execute_result"
    }
   ],
   "source": [
    "cout(X, y_obs, theta_final)"
   ]
  },
  {
   "cell_type": "markdown",
   "metadata": {},
   "source": [
    "## III. Régression Polynomiale"
   ]
  },
  {
   "cell_type": "code",
   "execution_count": 41,
   "metadata": {},
   "outputs": [
    {
     "data": {
      "text/html": [
       "<div>\n",
       "<style scoped>\n",
       "    .dataframe tbody tr th:only-of-type {\n",
       "        vertical-align: middle;\n",
       "    }\n",
       "\n",
       "    .dataframe tbody tr th {\n",
       "        vertical-align: top;\n",
       "    }\n",
       "\n",
       "    .dataframe thead th {\n",
       "        text-align: right;\n",
       "    }\n",
       "</style>\n",
       "<table border=\"1\" class=\"dataframe\">\n",
       "  <thead>\n",
       "    <tr style=\"text-align: right;\">\n",
       "      <th></th>\n",
       "      <th>Position</th>\n",
       "      <th>Level</th>\n",
       "      <th>Salary</th>\n",
       "    </tr>\n",
       "  </thead>\n",
       "  <tbody>\n",
       "    <tr>\n",
       "      <th>0</th>\n",
       "      <td>Project Analyste</td>\n",
       "      <td>1</td>\n",
       "      <td>45000</td>\n",
       "    </tr>\n",
       "    <tr>\n",
       "      <th>1</th>\n",
       "      <td>Ingenieur</td>\n",
       "      <td>2</td>\n",
       "      <td>50000</td>\n",
       "    </tr>\n",
       "    <tr>\n",
       "      <th>2</th>\n",
       "      <td>Senior Consultant</td>\n",
       "      <td>3</td>\n",
       "      <td>60000</td>\n",
       "    </tr>\n",
       "    <tr>\n",
       "      <th>3</th>\n",
       "      <td>Manager</td>\n",
       "      <td>4</td>\n",
       "      <td>80000</td>\n",
       "    </tr>\n",
       "    <tr>\n",
       "      <th>4</th>\n",
       "      <td>Country Manager</td>\n",
       "      <td>5</td>\n",
       "      <td>110000</td>\n",
       "    </tr>\n",
       "    <tr>\n",
       "      <th>5</th>\n",
       "      <td>Gouverneur</td>\n",
       "      <td>6</td>\n",
       "      <td>150000</td>\n",
       "    </tr>\n",
       "    <tr>\n",
       "      <th>6</th>\n",
       "      <td>Associate</td>\n",
       "      <td>7</td>\n",
       "      <td>200000</td>\n",
       "    </tr>\n",
       "    <tr>\n",
       "      <th>7</th>\n",
       "      <td>Commercial</td>\n",
       "      <td>8</td>\n",
       "      <td>300000</td>\n",
       "    </tr>\n",
       "    <tr>\n",
       "      <th>8</th>\n",
       "      <td>C-level</td>\n",
       "      <td>9</td>\n",
       "      <td>500000</td>\n",
       "    </tr>\n",
       "    <tr>\n",
       "      <th>9</th>\n",
       "      <td>PDG</td>\n",
       "      <td>10</td>\n",
       "      <td>1000000</td>\n",
       "    </tr>\n",
       "  </tbody>\n",
       "</table>\n",
       "</div>"
      ],
      "text/plain": [
       "            Position  Level   Salary\n",
       "0   Project Analyste      1    45000\n",
       "1          Ingenieur      2    50000\n",
       "2  Senior Consultant      3    60000\n",
       "3            Manager      4    80000\n",
       "4    Country Manager      5   110000\n",
       "5         Gouverneur      6   150000\n",
       "6          Associate      7   200000\n",
       "7         Commercial      8   300000\n",
       "8            C-level      9   500000\n",
       "9                PDG     10  1000000"
      ]
     },
     "execution_count": 41,
     "metadata": {},
     "output_type": "execute_result"
    }
   ],
   "source": [
    "path = 'Position_Salaries.csv'\n",
    "salaire = pd.read_csv(path)\n",
    "salaire"
   ]
  },
  {
   "cell_type": "code",
   "execution_count": 42,
   "metadata": {},
   "outputs": [
    {
     "data": {
      "text/plain": [
       "(10, 3)"
      ]
     },
     "execution_count": 42,
     "metadata": {},
     "output_type": "execute_result"
    }
   ],
   "source": [
    "salaire.shape"
   ]
  },
  {
   "cell_type": "code",
   "execution_count": 43,
   "metadata": {},
   "outputs": [
    {
     "data": {
      "image/png": "[encoded data removed]",
      "text/plain": [
       "<Figure size 432x288 with 1 Axes>"
      ]
     },
     "metadata": {
      "needs_background": "light"
     },
     "output_type": "display_data"
    }
   ],
   "source": [
    "plt.scatter(salaire['Level'], salaire['Salary'])\n",
    "plt.show()"
   ]
  },
  {
   "cell_type": "code",
   "execution_count": 44,
   "metadata": {},
   "outputs": [
    {
     "data": {
      "text/plain": [
       "(10, 3)"
      ]
     },
     "execution_count": 44,
     "metadata": {},
     "output_type": "execute_result"
    }
   ],
   "source": [
    "#Features & target\n",
    "x = salaire['Level']\n",
    "x2 = x.pow(2)\n",
    "ones = np.ones(len(x))\n",
    "y = salaire['Salary']\n",
    "\n",
    "#Reshape\n",
    "x = np.array(x)\n",
    "x = x.reshape(len(x), 1)\n",
    "x2 = np.array(x2)\n",
    "x2 = x2.reshape(len(x2), 1)\n",
    "ones = ones.reshape(len(ones), 1)\n",
    "y = np.array(y)\n",
    "y = y.reshape(len(y), 1)\n",
    "\n",
    "#Matrice X\n",
    "X = np.hstack((x2, x, ones))\n",
    "X.shape"
   ]
  },
  {
   "cell_type": "code",
   "execution_count": 45,
   "metadata": {},
   "outputs": [
    {
     "data": {
      "text/plain": [
       "array([[ 0.00781627],\n",
       "       [-1.06241989],\n",
       "       [-0.20433408]])"
      ]
     },
     "execution_count": 45,
     "metadata": {},
     "output_type": "execute_result"
    }
   ],
   "source": [
    "#Theta\n",
    "theta = np.random.randn(3, 1)\n",
    "theta"
   ]
  },
  {
   "cell_type": "markdown",
   "metadata": {},
   "source": [
    "### 1. Calcul du modèle"
   ]
  },
  {
   "cell_type": "code",
   "execution_count": 46,
   "metadata": {},
   "outputs": [
    {
     "data": {
      "text/plain": [
       "array([[ -1.25893771],\n",
       "       [ -2.29790879],\n",
       "       [ -3.32124734],\n",
       "       [ -4.32895336],\n",
       "       [ -5.32102683],\n",
       "       [ -6.29746777],\n",
       "       [ -7.25827617],\n",
       "       [ -8.20345203],\n",
       "       [ -9.13299536],\n",
       "       [-10.04690614]])"
      ]
     },
     "execution_count": 46,
     "metadata": {},
     "output_type": "execute_result"
    }
   ],
   "source": [
    "y_pred = model(X, theta)\n",
    "y_pred"
   ]
  },
  {
   "cell_type": "markdown",
   "metadata": {},
   "source": [
    "### 2. Calcul de la fonction coût"
   ]
  },
  {
   "cell_type": "code",
   "execution_count": 47,
   "metadata": {},
   "outputs": [
    {
     "data": {
      "text/plain": [
       "71458327337.09943"
      ]
     },
     "execution_count": 47,
     "metadata": {},
     "output_type": "execute_result"
    }
   ],
   "source": [
    "cout_polynom = cout(X, y, theta)\n",
    "cout_polynom"
   ]
  },
  {
   "cell_type": "markdown",
   "metadata": {},
   "source": [
    "### 3. Calcul du gradient"
   ]
  },
  {
   "cell_type": "code",
   "execution_count": 48,
   "metadata": {},
   "outputs": [
    {
     "data": {
      "text/plain": [
       "array([[-17971809.44792634],\n",
       "       [ -2039539.66258206],\n",
       "       [  -249505.74671715]])"
      ]
     },
     "execution_count": 48,
     "metadata": {},
     "output_type": "execute_result"
    }
   ],
   "source": [
    "gradient_polynom = gradient(X, y, theta)\n",
    "gradient_polynom"
   ]
  },
  {
   "cell_type": "markdown",
   "metadata": {},
   "source": [
    "### 4. Calcul du gradient descendant"
   ]
  },
  {
   "cell_type": "code",
   "execution_count": 49,
   "metadata": {},
   "outputs": [],
   "source": [
    "alpha = 0.0001\n",
    "n_iter = 30\n",
    "\n",
    "theta_new, cout_evol_polynom = descente_gradient(X, y, theta, alpha, n_iter)"
   ]
  },
  {
   "cell_type": "code",
   "execution_count": 50,
   "metadata": {},
   "outputs": [],
   "source": [
    "#Calcul du nouveau y\n",
    "\n",
    "y_predi = model(X, theta_new)"
   ]
  },
  {
   "cell_type": "markdown",
   "metadata": {},
   "source": [
    "### 5. Fonction de cout par rapport aux itérations"
   ]
  },
  {
   "cell_type": "code",
   "execution_count": 51,
   "metadata": {},
   "outputs": [
    {
     "data": {
      "image/png": "[encoded data removed]",
      "text/plain": [
       "<Figure size 432x288 with 1 Axes>"
      ]
     },
     "metadata": {
      "needs_background": "light"
     },
     "output_type": "display_data"
    }
   ],
   "source": [
    "n = np.arange(n_iter)\n",
    "\n",
    "plt.scatter(n, cout_evol_polynom)\n",
    "plt.show()"
   ]
  },
  {
   "cell_type": "code",
   "execution_count": 52,
   "metadata": {},
   "outputs": [
    {
     "data": {
      "image/png": "[encoded data removed]",
      "text/plain": [
       "<Figure size 432x288 with 1 Axes>"
      ]
     },
     "metadata": {
      "needs_background": "light"
     },
     "output_type": "display_data"
    }
   ],
   "source": [
    "#Représentation graphique\n",
    "plt.scatter(X[:, 1], y, c='r')\n",
    "plt.plot(X[:, 1], y_predi)\n",
    "plt.title('Regression polynomiale')\n",
    "plt.show()"
   ]
  },
  {
   "cell_type": "code",
   "execution_count": 53,
   "metadata": {},
   "outputs": [
    {
     "data": {
      "image/png": "[encoded data removed]",
      "text/plain": [
       "<Figure size 432x288 with 1 Axes>"
      ]
     },
     "metadata": {
      "needs_background": "light"
     },
     "output_type": "display_data"
    }
   ],
   "source": [
    "plt.plot(X[:, 1], y_predi)\n",
    "plt.show()"
   ]
  },
  {
   "cell_type": "markdown",
   "metadata": {},
   "source": [
    "### 6. Calcul de l'erreur"
   ]
  },
  {
   "cell_type": "code",
   "execution_count": 54,
   "metadata": {},
   "outputs": [
    {
     "data": {
      "text/plain": [
       "7766319946.270853"
      ]
     },
     "execution_count": 54,
     "metadata": {},
     "output_type": "execute_result"
    }
   ],
   "source": [
    "mse_poly_manuel = cout(X, y, theta_new)\n",
    "mse_poly_manuel"
   ]
  },
  {
   "cell_type": "markdown",
   "metadata": {},
   "source": [
    "### 7. Calcul du coefficient de détermination"
   ]
  },
  {
   "cell_type": "code",
   "execution_count": 55,
   "metadata": {},
   "outputs": [
    {
     "data": {
      "text/plain": [
       "0.8074360696293283"
      ]
     },
     "execution_count": 55,
     "metadata": {},
     "output_type": "execute_result"
    }
   ],
   "source": [
    "r2= coeff_determination(X, y, theta_new)\n",
    "r2"
   ]
  },
  {
   "cell_type": "markdown",
   "metadata": {},
   "source": [
    "-------------------------------------------"
   ]
  },
  {
   "cell_type": "markdown",
   "metadata": {},
   "source": [
    "### Dataframe du vin"
   ]
  },
  {
   "cell_type": "code",
   "execution_count": 56,
   "metadata": {},
   "outputs": [
    {
     "data": {
      "text/html": [
       "<div>\n",
       "<style scoped>\n",
       "    .dataframe tbody tr th:only-of-type {\n",
       "        vertical-align: middle;\n",
       "    }\n",
       "\n",
       "    .dataframe tbody tr th {\n",
       "        vertical-align: top;\n",
       "    }\n",
       "\n",
       "    .dataframe thead th {\n",
       "        text-align: right;\n",
       "    }\n",
       "</style>\n",
       "<table border=\"1\" class=\"dataframe\">\n",
       "  <thead>\n",
       "    <tr style=\"text-align: right;\">\n",
       "      <th></th>\n",
       "      <th>acidité fixe</th>\n",
       "      <th>acidité volatile</th>\n",
       "      <th>acide citrique</th>\n",
       "      <th>sucre résiduel</th>\n",
       "      <th>chlorures</th>\n",
       "      <th>dioxyde de soufre libre</th>\n",
       "      <th>anhydride sulfureux total</th>\n",
       "      <th>densité</th>\n",
       "      <th>pH</th>\n",
       "      <th>sulphates</th>\n",
       "      <th>alcool</th>\n",
       "      <th>qualité</th>\n",
       "    </tr>\n",
       "  </thead>\n",
       "  <tbody>\n",
       "    <tr>\n",
       "      <th>0</th>\n",
       "      <td>7.4</td>\n",
       "      <td>0.70</td>\n",
       "      <td>0.00</td>\n",
       "      <td>1.9</td>\n",
       "      <td>0.076</td>\n",
       "      <td>11.0</td>\n",
       "      <td>34.0</td>\n",
       "      <td>0.9978</td>\n",
       "      <td>3.51</td>\n",
       "      <td>0.56</td>\n",
       "      <td>9.4</td>\n",
       "      <td>5</td>\n",
       "    </tr>\n",
       "    <tr>\n",
       "      <th>1</th>\n",
       "      <td>7.8</td>\n",
       "      <td>0.88</td>\n",
       "      <td>0.00</td>\n",
       "      <td>2.6</td>\n",
       "      <td>0.098</td>\n",
       "      <td>25.0</td>\n",
       "      <td>67.0</td>\n",
       "      <td>0.9968</td>\n",
       "      <td>3.20</td>\n",
       "      <td>0.68</td>\n",
       "      <td>9.8</td>\n",
       "      <td>5</td>\n",
       "    </tr>\n",
       "    <tr>\n",
       "      <th>2</th>\n",
       "      <td>7.8</td>\n",
       "      <td>0.76</td>\n",
       "      <td>0.04</td>\n",
       "      <td>2.3</td>\n",
       "      <td>0.092</td>\n",
       "      <td>15.0</td>\n",
       "      <td>54.0</td>\n",
       "      <td>0.9970</td>\n",
       "      <td>3.26</td>\n",
       "      <td>0.65</td>\n",
       "      <td>9.8</td>\n",
       "      <td>5</td>\n",
       "    </tr>\n",
       "    <tr>\n",
       "      <th>3</th>\n",
       "      <td>11.2</td>\n",
       "      <td>0.28</td>\n",
       "      <td>0.56</td>\n",
       "      <td>1.9</td>\n",
       "      <td>0.075</td>\n",
       "      <td>17.0</td>\n",
       "      <td>60.0</td>\n",
       "      <td>0.9980</td>\n",
       "      <td>3.16</td>\n",
       "      <td>0.58</td>\n",
       "      <td>9.8</td>\n",
       "      <td>6</td>\n",
       "    </tr>\n",
       "    <tr>\n",
       "      <th>4</th>\n",
       "      <td>7.4</td>\n",
       "      <td>0.70</td>\n",
       "      <td>0.00</td>\n",
       "      <td>1.9</td>\n",
       "      <td>0.076</td>\n",
       "      <td>11.0</td>\n",
       "      <td>34.0</td>\n",
       "      <td>0.9978</td>\n",
       "      <td>3.51</td>\n",
       "      <td>0.56</td>\n",
       "      <td>9.4</td>\n",
       "      <td>5</td>\n",
       "    </tr>\n",
       "  </tbody>\n",
       "</table>\n",
       "</div>"
      ],
      "text/plain": [
       "   acidité fixe  acidité volatile  acide citrique  sucre résiduel  chlorures  \\\n",
       "0           7.4              0.70            0.00             1.9      0.076   \n",
       "1           7.8              0.88            0.00             2.6      0.098   \n",
       "2           7.8              0.76            0.04             2.3      0.092   \n",
       "3          11.2              0.28            0.56             1.9      0.075   \n",
       "4           7.4              0.70            0.00             1.9      0.076   \n",
       "\n",
       "   dioxyde de soufre libre  anhydride sulfureux total  densité    pH  \\\n",
       "0                     11.0                       34.0   0.9978  3.51   \n",
       "1                     25.0                       67.0   0.9968  3.20   \n",
       "2                     15.0                       54.0   0.9970  3.26   \n",
       "3                     17.0                       60.0   0.9980  3.16   \n",
       "4                     11.0                       34.0   0.9978  3.51   \n",
       "\n",
       "   sulphates  alcool  qualité  \n",
       "0       0.56     9.4        5  \n",
       "1       0.68     9.8        5  \n",
       "2       0.65     9.8        5  \n",
       "3       0.58     9.8        6  \n",
       "4       0.56     9.4        5  "
      ]
     },
     "execution_count": 56,
     "metadata": {},
     "output_type": "execute_result"
    }
   ],
   "source": [
    "path_vin = 'qualite-vin-rouge.csv'\n",
    "df_vin = pd.read_csv(path_vin)\n",
    "df_vin.head()"
   ]
  },
  {
   "cell_type": "code",
   "execution_count": 57,
   "metadata": {},
   "outputs": [
    {
     "data": {
      "text/plain": [
       "(1599, 12)"
      ]
     },
     "execution_count": 57,
     "metadata": {},
     "output_type": "execute_result"
    }
   ],
   "source": [
    "df_vin.shape"
   ]
  },
  {
   "cell_type": "code",
   "execution_count": 58,
   "metadata": {
    "scrolled": true
   },
   "outputs": [
    {
     "data": {
      "text/plain": [
       "acidité fixe                 float64\n",
       "acidité volatile             float64\n",
       "acide citrique               float64\n",
       "sucre résiduel               float64\n",
       "chlorures                    float64\n",
       "dioxyde de soufre libre      float64\n",
       "anhydride sulfureux total    float64\n",
       "densité                      float64\n",
       "pH                           float64\n",
       "sulphates                    float64\n",
       "alcool                       float64\n",
       "qualité                        int64\n",
       "dtype: object"
      ]
     },
     "execution_count": 58,
     "metadata": {},
     "output_type": "execute_result"
    }
   ],
   "source": [
    "df_vin.dtypes"
   ]
  },
  {
   "cell_type": "markdown",
   "metadata": {},
   "source": [
    "#### Corrélation entre les variables"
   ]
  },
  {
   "cell_type": "code",
   "execution_count": 59,
   "metadata": {},
   "outputs": [
    {
     "data": {
      "text/plain": [
       "qualité                      1.000000\n",
       "alcool                       0.476166\n",
       "sulphates                    0.251397\n",
       "acide citrique               0.226373\n",
       "acidité fixe                 0.124052\n",
       "sucre résiduel               0.013732\n",
       "dioxyde de soufre libre     -0.050656\n",
       "pH                          -0.057731\n",
       "chlorures                   -0.128907\n",
       "densité                     -0.174919\n",
       "anhydride sulfureux total   -0.185100\n",
       "acidité volatile            -0.390558\n",
       "dtype: float64"
      ]
     },
     "execution_count": 59,
     "metadata": {},
     "output_type": "execute_result"
    }
   ],
   "source": [
    "df_vin.corrwith(df_vin['qualité']).sort_values(ascending = False)"
   ]
  },
  {
   "cell_type": "code",
   "execution_count": 60,
   "metadata": {
    "scrolled": true
   },
   "outputs": [
    {
     "data": {
      "image/png": "[encoded data removed]",
      "text/plain": [
       "<Figure size 432x288 with 1 Axes>"
      ]
     },
     "metadata": {
      "needs_background": "light"
     },
     "output_type": "display_data"
    }
   ],
   "source": [
    "plt.scatter(df_vin['alcool'], df_vin['qualité'])\n",
    "plt.show()"
   ]
  },
  {
   "cell_type": "code",
   "execution_count": 61,
   "metadata": {},
   "outputs": [
    {
     "data": {
      "text/plain": [
       "array([[ 88.36,   9.4 ,   1.  ],\n",
       "       [ 96.04,   9.8 ,   1.  ],\n",
       "       [ 96.04,   9.8 ,   1.  ],\n",
       "       ...,\n",
       "       [121.  ,  11.  ,   1.  ],\n",
       "       [104.04,  10.2 ,   1.  ],\n",
       "       [121.  ,  11.  ,   1.  ]])"
      ]
     },
     "execution_count": 61,
     "metadata": {},
     "output_type": "execute_result"
    }
   ],
   "source": [
    "#Features\n",
    "x = df_vin['alcool']\n",
    "x2 =x.pow(2)\n",
    "ones =np.ones(len(x)).reshape(-1, 1)\n",
    "x = np.array(x).reshape(-1, 1)\n",
    "x2 = np.array(x2).reshape(-1, 1)\n",
    "\n",
    "#Target\n",
    "y = df_vin['qualité']\n",
    "y = np.array(y).reshape(-1, 1)\n",
    "\n",
    "#Matrice X\n",
    "X = np.hstack((x2, x, ones))\n",
    "\n",
    "#Theta\n",
    "theta = np.random.randn(3, 1)\n",
    "theta\n",
    "X"
   ]
  },
  {
   "cell_type": "code",
   "execution_count": 62,
   "metadata": {},
   "outputs": [],
   "source": [
    "#Model\n",
    "y_pre = model(X, theta)\n",
    "\n",
    "#Coût\n",
    "cout_vin = cout(X, y, theta)\n",
    "\n",
    "#gradient\n",
    "gradient_vin = gradient(X, y, theta)\n",
    "\n",
    "#Descente de gradient\n",
    "alpha = 0.001\n",
    "n_iteration = 30\n",
    "new_theta_vin, cout_evolution_vin = descente_gradient(X, y, theta, alpha, n_iteration)\n",
    "\n"
   ]
  },
  {
   "cell_type": "code",
   "execution_count": 63,
   "metadata": {},
   "outputs": [
    {
     "data": {
      "text/plain": [
       "array([[-3.79463520e+33],\n",
       "       [-4.12277539e+33],\n",
       "       [-4.12277539e+33],\n",
       "       ...,\n",
       "       [-5.18883618e+33],\n",
       "       [-4.46452228e+33],\n",
       "       [-5.18883618e+33]])"
      ]
     },
     "execution_count": 63,
     "metadata": {},
     "output_type": "execute_result"
    }
   ],
   "source": [
    "y_new = model(X, new_theta_vin)\n",
    "y_new"
   ]
  },
  {
   "cell_type": "markdown",
   "metadata": {},
   "source": [
    "## IV. Scikit-Learn"
   ]
  },
  {
   "cell_type": "markdown",
   "metadata": {},
   "source": [
    "### 1. Régression Linéaire\n",
    "Dataframe des notes en fonction des heures révision"
   ]
  },
  {
   "cell_type": "code",
   "execution_count": 64,
   "metadata": {},
   "outputs": [],
   "source": [
    "#Conversion du dataframe en numpy array\n",
    "np_reg_simple = reg_simple.to_numpy()\n",
    "\n",
    "#Feature\n",
    "X = np_reg_simple[:, 0]\n",
    "X = X.reshape(-1, 1)\n",
    "\n",
    "#Target\n",
    "y = np_reg_simple[:, 1]\n",
    "y = y.reshape(-1, 1)\n",
    "\n",
    "#Fractionnement du jeu de données en x_train, x_test...\n",
    "X_train, X_test, y_train, y_test = train_test_split(X, y, test_size = 0.2)\n",
    "\n",
    "#Définition du modèle\n",
    "model = LinearRegression()\n",
    "\n",
    "#Entrainement du modèle\n",
    "model.fit(X_train, y_train)\n",
    "\n",
    "#Prédiction des y\n",
    "y_predict = model.predict(X_test)\n"
   ]
  },
  {
   "cell_type": "code",
   "execution_count": 65,
   "metadata": {},
   "outputs": [
    {
     "data": {
      "image/png": "[encoded data removed]",
      "text/plain": [
       "<Figure size 432x288 with 1 Axes>"
      ]
     },
     "metadata": {
      "needs_background": "light"
     },
     "output_type": "display_data"
    }
   ],
   "source": [
    "#Visualisation des résultats du modèle sur les valeurs tests\n",
    "plt.scatter(X_test, y_test, c = 'salmon')\n",
    "plt.plot(X_test, y_predict)\n",
    "plt.title('Regression linéaire (Sk-learn)')\n",
    "plt.show()"
   ]
  },
  {
   "cell_type": "code",
   "execution_count": 66,
   "metadata": {},
   "outputs": [
    {
     "data": {
      "text/plain": [
       "58.349"
      ]
     },
     "execution_count": 66,
     "metadata": {},
     "output_type": "execute_result"
    }
   ],
   "source": [
    "#Calcul de la Mean Squared Error\n",
    "mse_lin_skl = mean_squared_error(y_test, y_predict)\n",
    "round(mse_lin_skl, 3)"
   ]
  },
  {
   "cell_type": "markdown",
   "metadata": {},
   "source": [
    "#### Comparaison des modèles"
   ]
  },
  {
   "cell_type": "code",
   "execution_count": 67,
   "metadata": {},
   "outputs": [
    {
     "name": "stdout",
     "output_type": "stream",
     "text": [
      "L'erreur quadratique à la moyenne est de 10.014 pour le modèle manuel et de 58.349 pour le modèle de SK-Learn.\n"
     ]
    }
   ],
   "source": [
    "print(f\"L'erreur quadratique à la moyenne est de {round(mse_lin_manuel, 3)} pour le modèle manuel et de {round(mse_lin_skl, 3)} pour le modèle de SK-Learn.\")"
   ]
  },
  {
   "cell_type": "markdown",
   "metadata": {},
   "source": [
    "### 2. Régression multiple"
   ]
  },
  {
   "cell_type": "code",
   "execution_count": 68,
   "metadata": {},
   "outputs": [
    {
     "data": {
      "text/plain": [
       "Index(['CRIM', 'ZN', 'INDUS', 'CHAS', 'NOX', 'RM', 'AGE', 'DIS', 'RAD', 'TAX',\n",
       "       'PTRATIO', 'B', 'LSTAT', 'MEDV'],\n",
       "      dtype='object')"
      ]
     },
     "execution_count": 68,
     "metadata": {},
     "output_type": "execute_result"
    }
   ],
   "source": [
    "boston_prices.columns"
   ]
  },
  {
   "cell_type": "code",
   "execution_count": 69,
   "metadata": {},
   "outputs": [
    {
     "data": {
      "text/plain": [
       "(102,)"
      ]
     },
     "execution_count": 69,
     "metadata": {},
     "output_type": "execute_result"
    }
   ],
   "source": [
    "#Conversion du dataframe en numpy array\n",
    "#np_boston_prices = boston_prices.to_numpy()\n",
    "\n",
    "#Feature\n",
    "X = boston_prices[['RM', 'LSTAT']]\n",
    "\n",
    "#Target\n",
    "y = boston_prices['MEDV']\n",
    "\n",
    "#Fractionnement du jeu de données en x_train, x_test...\n",
    "X_train, X_test, y_train, y_test = train_test_split(X, y, test_size = 0.2)\n",
    "\n",
    "#Définition du modèle\n",
    "model = LinearRegression()\n",
    "\n",
    "#Entrainement du modèle\n",
    "model.fit(X_train, y_train)\n",
    "\n",
    "#Prédiction des y\n",
    "y_predits = model.predict(X_test)\n",
    "y_predits.shape\n",
    "#y_test.shape"
   ]
  },
  {
   "cell_type": "code",
   "execution_count": 70,
   "metadata": {},
   "outputs": [
    {
     "data": {
      "text/plain": [
       "69      8.79\n",
       "434    15.17\n",
       "287     7.14\n",
       "491    18.07\n",
       "114    10.45\n",
       "       ...  \n",
       "293     8.58\n",
       "374    37.97\n",
       "378    23.69\n",
       "234     8.05\n",
       "307     7.53\n",
       "Name: LSTAT, Length: 102, dtype: float64"
      ]
     },
     "execution_count": 70,
     "metadata": {},
     "output_type": "execute_result"
    }
   ],
   "source": [
    "X_test.iloc[:, 1]"
   ]
  },
  {
   "cell_type": "code",
   "execution_count": 71,
   "metadata": {},
   "outputs": [
    {
     "data": {
      "image/png": "[encoded data removed]",
      "text/plain": [
       "<Figure size 432x288 with 1 Axes>"
      ]
     },
     "metadata": {
      "needs_background": "light"
     },
     "output_type": "display_data"
    }
   ],
   "source": [
    "#Visualisation des résultats du modèle sur les valeurs tests\n",
    "y_test = np.array(y_test)\n",
    "y_test = y_test.reshape(-1, 1)\n",
    "\n",
    "from mpl_toolkits.mplot3d import Axes3D\n",
    "#%matplotlib notebook\n",
    "fig= plt.figure()\n",
    "ax=fig.add_subplot(111,projection='3d')\n",
    "\n",
    "ax.scatter(X_test.iloc[:, 0],X_test.iloc[:, 1],y_test)\n",
    "ax.scatter(X_test.iloc[:, 0],X_test.iloc[:, 1],y_predits)\n",
    "plt.title('Regression multiple (Sk-learn)')\n",
    "plt.show()"
   ]
  },
  {
   "cell_type": "code",
   "execution_count": 72,
   "metadata": {},
   "outputs": [
    {
     "data": {
      "text/plain": [
       "37.83088890703221"
      ]
     },
     "execution_count": 72,
     "metadata": {},
     "output_type": "execute_result"
    }
   ],
   "source": [
    "#Calcul de la Mean Squared Error\n",
    "mse_mult_skl = mean_squared_error(y_test, y_predits)\n",
    "mse_mult_skl"
   ]
  },
  {
   "cell_type": "markdown",
   "metadata": {},
   "source": [
    "#### Comparaison des modèles"
   ]
  },
  {
   "cell_type": "code",
   "execution_count": 73,
   "metadata": {},
   "outputs": [
    {
     "name": "stdout",
     "output_type": "stream",
     "text": [
      "L'erreur quadratique à la moyenne est de 183.74 pour le modèle manuel et de 37.831 pour le modèle de SK-Learn.\n"
     ]
    }
   ],
   "source": [
    "print(f\"L'erreur quadratique à la moyenne est de {round(mse_mult_manuel, 3)} pour le modèle manuel et de {round(mse_mult_skl, 3)} pour le modèle de SK-Learn.\")"
   ]
  },
  {
   "cell_type": "markdown",
   "metadata": {},
   "source": [
    "### 3. Régression polynomiale"
   ]
  },
  {
   "cell_type": "code",
   "execution_count": 74,
   "metadata": {},
   "outputs": [],
   "source": [
    "#Conversion du dataframe en numpy array\n",
    "np_salaire = salaire.to_numpy()\n",
    "\n",
    "#Feature\n",
    "X = np_salaire[:,1]\n",
    "X = X.reshape(-1, 1)\n",
    "\n",
    "#Target\n",
    "y = np_salaire[:, 2]\n",
    "y = y.reshape(-1, 1)\n",
    "\n",
    "#Polynomiale\n",
    "polynomiale = PolynomialFeatures(degree = 3)\n",
    "X = polynomiale.fit_transform(X)\n",
    "\n",
    "#Fractionnement du jeu de données en x_train, x_test...\n",
    "X_train, X_test, y_train, y_test = train_test_split(X, y, test_size = 0.3)\n",
    "\n",
    "#Définition du modèle\n",
    "model = LinearRegression()\n",
    "\n",
    "#Entrainement du modèle\n",
    "model.fit(X_train, y_train)\n",
    "\n",
    "#Prédiction des y\n",
    "y_predicts = model.predict(X_test)\n"
   ]
  },
  {
   "cell_type": "code",
   "execution_count": 75,
   "metadata": {},
   "outputs": [
    {
     "data": {
      "image/png": "[encoded data removed]",
      "text/plain": [
       "<Figure size 432x288 with 1 Axes>"
      ]
     },
     "metadata": {
      "needs_background": "light"
     },
     "output_type": "display_data"
    }
   ],
   "source": [
    "#Visualisation des résultats du modèle sur les valeurs tests\n",
    "plt.scatter(X_test[:, 2], y_test)\n",
    "plt.plot(X_test[:,2], y_predicts)\n",
    "plt.title('Regression polynomiale (Sk-learn)')\n",
    "plt.show()"
   ]
  },
  {
   "cell_type": "code",
   "execution_count": 76,
   "metadata": {},
   "outputs": [
    {
     "data": {
      "text/plain": [
       "9532911184.320925"
      ]
     },
     "execution_count": 76,
     "metadata": {},
     "output_type": "execute_result"
    }
   ],
   "source": [
    "#Calcul de la Mean Squared Error\n",
    "mse_poly_skl = mean_squared_error(y_test, y_predicts)\n",
    "mse_poly_skl"
   ]
  },
  {
   "cell_type": "markdown",
   "metadata": {},
   "source": [
    "#### Comparaison des modèles"
   ]
  },
  {
   "cell_type": "code",
   "execution_count": 77,
   "metadata": {
    "scrolled": true
   },
   "outputs": [
    {
     "name": "stdout",
     "output_type": "stream",
     "text": [
      "L'erreur quadratique à la moyenne est de 7766319946.271 pour le modèle manuel et de 9532911184.321 pour le modèle de SK-Learn.\n"
     ]
    }
   ],
   "source": [
    "print(f\"L'erreur quadratique à la moyenne est de {round(mse_poly_manuel, 3)} pour le modèle manuel et de {round(mse_poly_skl, 3)} pour le modèle de SK-Learn.\")"
   ]
  },
  {
   "cell_type": "markdown",
   "metadata": {},
   "source": [
    "https://github.com/PLepelley/Modele_ML_1/blob/main/reg_simple.png\n",
    "https://github.com/PLepelley/Modele_ML_1/blob/main/reg_multiple.png\n",
    "https://github.com/PLepelley/Modele_ML_1/blob/main/reg_polynomiale.png\n",
    "\n",
    "https://github.com/PLepelley/Modele_ML_1/blob/main/reg_simple_sklearn.png\n",
    "https://github.com/PLepelley/Modele_ML_1/blob/main/reg_multiple_sklearn.png\n",
    "https://github.com/PLepelley/Modele_ML_1/blob/main/reg_polynomiale_sklearn.png\n"
   ]
  }
 ],
 "metadata": {
  "kernelspec": {
   "display_name": "Python 3",
   "language": "python",
   "name": "python3"
  },
  "language_info": {
   "codemirror_mode": {
    "name": "ipython",
    "version": 3
   },
   "file_extension": ".py",
   "mimetype": "text/x-python",
   "name": "python",
   "nbconvert_exporter": "python",
   "pygments_lexer": "ipython3",
   "version": "3.8.3"
  }
 },
 "nbformat": 4,
 "nbformat_minor": 4
}
